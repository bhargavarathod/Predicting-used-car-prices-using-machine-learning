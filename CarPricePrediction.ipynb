{
 "cells": [
  {
   "cell_type": "code",
   "execution_count": 112,
   "metadata": {},
   "outputs": [],
   "source": [
    "import numpy as np\n",
    "import pandas as pd\n",
    "import matplotlib.pyplot as plt\n",
    "%matplotlib inline\n",
    "\n",
    "from sklearn.preprocessing import LabelEncoder, StandardScaler\n",
    "from sklearn.model_selection import train_test_split, cross_val_score, GridSearchCV, StratifiedKFold\n",
    "\n",
    "from sklearn.metrics import r2_score, mean_absolute_error, mean_squared_error\n",
    "\n",
    "\n",
    "# models\n",
    "from sklearn.linear_model import LinearRegression\n",
    "from sklearn.tree import DecisionTreeRegressor\n",
    "from sklearn.linear_model import Lasso\n",
    "from sklearn.neighbors import KNeighborsRegressor\n",
    "from sklearn.tree import DecisionTreeRegressor\n",
    "from sklearn.ensemble import RandomForestRegressor\n",
    "from sklearn.linear_model import Ridge\n",
    "from sklearn.model_selection import GridSearchCV\n",
    "from sklearn.model_selection import RandomizedSearchCV\n",
    "\n",
    "import warnings\n",
    "warnings.filterwarnings(\"ignore\")"
   ]
  },
  {
   "cell_type": "code",
   "execution_count": 113,
   "metadata": {},
   "outputs": [
    {
     "data": {
      "text/html": [
       "<div>\n",
       "<style scoped>\n",
       "    .dataframe tbody tr th:only-of-type {\n",
       "        vertical-align: middle;\n",
       "    }\n",
       "\n",
       "    .dataframe tbody tr th {\n",
       "        vertical-align: top;\n",
       "    }\n",
       "\n",
       "    .dataframe thead th {\n",
       "        text-align: right;\n",
       "    }\n",
       "</style>\n",
       "<table border=\"1\" class=\"dataframe\">\n",
       "  <thead>\n",
       "    <tr style=\"text-align: right;\">\n",
       "      <th></th>\n",
       "      <th>Car_Name</th>\n",
       "      <th>Year</th>\n",
       "      <th>Selling_Price</th>\n",
       "      <th>Present_Price</th>\n",
       "      <th>Kms_Driven</th>\n",
       "      <th>Fuel_Type</th>\n",
       "      <th>Seller_Type</th>\n",
       "      <th>Transmission</th>\n",
       "      <th>Owner</th>\n",
       "    </tr>\n",
       "  </thead>\n",
       "  <tbody>\n",
       "    <tr>\n",
       "      <th>0</th>\n",
       "      <td>ritz</td>\n",
       "      <td>2014</td>\n",
       "      <td>3.35</td>\n",
       "      <td>5.59</td>\n",
       "      <td>27000</td>\n",
       "      <td>Petrol</td>\n",
       "      <td>Dealer</td>\n",
       "      <td>Manual</td>\n",
       "      <td>0</td>\n",
       "    </tr>\n",
       "    <tr>\n",
       "      <th>1</th>\n",
       "      <td>sx4</td>\n",
       "      <td>2013</td>\n",
       "      <td>4.75</td>\n",
       "      <td>9.54</td>\n",
       "      <td>43000</td>\n",
       "      <td>Diesel</td>\n",
       "      <td>Dealer</td>\n",
       "      <td>Manual</td>\n",
       "      <td>0</td>\n",
       "    </tr>\n",
       "    <tr>\n",
       "      <th>2</th>\n",
       "      <td>ciaz</td>\n",
       "      <td>2017</td>\n",
       "      <td>7.25</td>\n",
       "      <td>9.85</td>\n",
       "      <td>6900</td>\n",
       "      <td>Petrol</td>\n",
       "      <td>Dealer</td>\n",
       "      <td>Manual</td>\n",
       "      <td>0</td>\n",
       "    </tr>\n",
       "    <tr>\n",
       "      <th>3</th>\n",
       "      <td>wagon r</td>\n",
       "      <td>2011</td>\n",
       "      <td>2.85</td>\n",
       "      <td>4.15</td>\n",
       "      <td>5200</td>\n",
       "      <td>Petrol</td>\n",
       "      <td>Dealer</td>\n",
       "      <td>Manual</td>\n",
       "      <td>0</td>\n",
       "    </tr>\n",
       "    <tr>\n",
       "      <th>4</th>\n",
       "      <td>swift</td>\n",
       "      <td>2014</td>\n",
       "      <td>4.60</td>\n",
       "      <td>6.87</td>\n",
       "      <td>42450</td>\n",
       "      <td>Diesel</td>\n",
       "      <td>Dealer</td>\n",
       "      <td>Manual</td>\n",
       "      <td>0</td>\n",
       "    </tr>\n",
       "  </tbody>\n",
       "</table>\n",
       "</div>"
      ],
      "text/plain": [
       "  Car_Name  Year  Selling_Price  Present_Price  Kms_Driven Fuel_Type  \\\n",
       "0     ritz  2014           3.35           5.59       27000    Petrol   \n",
       "1      sx4  2013           4.75           9.54       43000    Diesel   \n",
       "2     ciaz  2017           7.25           9.85        6900    Petrol   \n",
       "3  wagon r  2011           2.85           4.15        5200    Petrol   \n",
       "4    swift  2014           4.60           6.87       42450    Diesel   \n",
       "\n",
       "  Seller_Type Transmission  Owner  \n",
       "0      Dealer       Manual      0  \n",
       "1      Dealer       Manual      0  \n",
       "2      Dealer       Manual      0  \n",
       "3      Dealer       Manual      0  \n",
       "4      Dealer       Manual      0  "
      ]
     },
     "execution_count": 113,
     "metadata": {},
     "output_type": "execute_result"
    }
   ],
   "source": [
    "data=pd.read_csv('car data.csv')\n",
    "data.head()"
   ]
  },
  {
   "cell_type": "code",
   "execution_count": 114,
   "metadata": {},
   "outputs": [
    {
     "data": {
      "text/plain": [
       "(301, 9)"
      ]
     },
     "execution_count": 114,
     "metadata": {},
     "output_type": "execute_result"
    }
   ],
   "source": [
    "data.shape"
   ]
  },
  {
   "cell_type": "code",
   "execution_count": 115,
   "metadata": {},
   "outputs": [
    {
     "data": {
      "text/html": [
       "<div>\n",
       "<style scoped>\n",
       "    .dataframe tbody tr th:only-of-type {\n",
       "        vertical-align: middle;\n",
       "    }\n",
       "\n",
       "    .dataframe tbody tr th {\n",
       "        vertical-align: top;\n",
       "    }\n",
       "\n",
       "    .dataframe thead th {\n",
       "        text-align: right;\n",
       "    }\n",
       "</style>\n",
       "<table border=\"1\" class=\"dataframe\">\n",
       "  <thead>\n",
       "    <tr style=\"text-align: right;\">\n",
       "      <th></th>\n",
       "      <th>Year</th>\n",
       "      <th>Selling_Price</th>\n",
       "      <th>Present_Price</th>\n",
       "      <th>Kms_Driven</th>\n",
       "      <th>Owner</th>\n",
       "    </tr>\n",
       "  </thead>\n",
       "  <tbody>\n",
       "    <tr>\n",
       "      <th>count</th>\n",
       "      <td>301.000000</td>\n",
       "      <td>301.000000</td>\n",
       "      <td>301.000000</td>\n",
       "      <td>301.000000</td>\n",
       "      <td>301.000000</td>\n",
       "    </tr>\n",
       "    <tr>\n",
       "      <th>mean</th>\n",
       "      <td>2013.627907</td>\n",
       "      <td>4.661296</td>\n",
       "      <td>7.628472</td>\n",
       "      <td>36947.205980</td>\n",
       "      <td>0.043189</td>\n",
       "    </tr>\n",
       "    <tr>\n",
       "      <th>std</th>\n",
       "      <td>2.891554</td>\n",
       "      <td>5.082812</td>\n",
       "      <td>8.644115</td>\n",
       "      <td>38886.883882</td>\n",
       "      <td>0.247915</td>\n",
       "    </tr>\n",
       "    <tr>\n",
       "      <th>min</th>\n",
       "      <td>2003.000000</td>\n",
       "      <td>0.100000</td>\n",
       "      <td>0.320000</td>\n",
       "      <td>500.000000</td>\n",
       "      <td>0.000000</td>\n",
       "    </tr>\n",
       "    <tr>\n",
       "      <th>25%</th>\n",
       "      <td>2012.000000</td>\n",
       "      <td>0.900000</td>\n",
       "      <td>1.200000</td>\n",
       "      <td>15000.000000</td>\n",
       "      <td>0.000000</td>\n",
       "    </tr>\n",
       "    <tr>\n",
       "      <th>50%</th>\n",
       "      <td>2014.000000</td>\n",
       "      <td>3.600000</td>\n",
       "      <td>6.400000</td>\n",
       "      <td>32000.000000</td>\n",
       "      <td>0.000000</td>\n",
       "    </tr>\n",
       "    <tr>\n",
       "      <th>75%</th>\n",
       "      <td>2016.000000</td>\n",
       "      <td>6.000000</td>\n",
       "      <td>9.900000</td>\n",
       "      <td>48767.000000</td>\n",
       "      <td>0.000000</td>\n",
       "    </tr>\n",
       "    <tr>\n",
       "      <th>max</th>\n",
       "      <td>2018.000000</td>\n",
       "      <td>35.000000</td>\n",
       "      <td>92.600000</td>\n",
       "      <td>500000.000000</td>\n",
       "      <td>3.000000</td>\n",
       "    </tr>\n",
       "  </tbody>\n",
       "</table>\n",
       "</div>"
      ],
      "text/plain": [
       "              Year  Selling_Price  Present_Price     Kms_Driven       Owner\n",
       "count   301.000000     301.000000     301.000000     301.000000  301.000000\n",
       "mean   2013.627907       4.661296       7.628472   36947.205980    0.043189\n",
       "std       2.891554       5.082812       8.644115   38886.883882    0.247915\n",
       "min    2003.000000       0.100000       0.320000     500.000000    0.000000\n",
       "25%    2012.000000       0.900000       1.200000   15000.000000    0.000000\n",
       "50%    2014.000000       3.600000       6.400000   32000.000000    0.000000\n",
       "75%    2016.000000       6.000000       9.900000   48767.000000    0.000000\n",
       "max    2018.000000      35.000000      92.600000  500000.000000    3.000000"
      ]
     },
     "execution_count": 115,
     "metadata": {},
     "output_type": "execute_result"
    }
   ],
   "source": [
    "data.describe()"
   ]
  },
  {
   "cell_type": "code",
   "execution_count": 116,
   "metadata": {},
   "outputs": [
    {
     "name": "stdout",
     "output_type": "stream",
     "text": [
      "<class 'pandas.core.frame.DataFrame'>\n",
      "RangeIndex: 301 entries, 0 to 300\n",
      "Data columns (total 9 columns):\n",
      " #   Column         Non-Null Count  Dtype  \n",
      "---  ------         --------------  -----  \n",
      " 0   Car_Name       301 non-null    object \n",
      " 1   Year           301 non-null    int64  \n",
      " 2   Selling_Price  301 non-null    float64\n",
      " 3   Present_Price  301 non-null    float64\n",
      " 4   Kms_Driven     301 non-null    int64  \n",
      " 5   Fuel_Type      301 non-null    object \n",
      " 6   Seller_Type    301 non-null    object \n",
      " 7   Transmission   301 non-null    object \n",
      " 8   Owner          301 non-null    int64  \n",
      "dtypes: float64(2), int64(3), object(4)\n",
      "memory usage: 21.3+ KB\n"
     ]
    }
   ],
   "source": [
    "data.info()"
   ]
  },
  {
   "cell_type": "code",
   "execution_count": 117,
   "metadata": {},
   "outputs": [
    {
     "data": {
      "text/plain": [
       "Petrol    239\n",
       "Diesel     60\n",
       "CNG         2\n",
       "Name: Fuel_Type, dtype: int64"
      ]
     },
     "execution_count": 117,
     "metadata": {},
     "output_type": "execute_result"
    }
   ],
   "source": [
    "data['Fuel_Type'].value_counts()"
   ]
  },
  {
   "cell_type": "code",
   "execution_count": 118,
   "metadata": {},
   "outputs": [
    {
     "data": {
      "text/html": [
       "<div>\n",
       "<style scoped>\n",
       "    .dataframe tbody tr th:only-of-type {\n",
       "        vertical-align: middle;\n",
       "    }\n",
       "\n",
       "    .dataframe tbody tr th {\n",
       "        vertical-align: top;\n",
       "    }\n",
       "\n",
       "    .dataframe thead th {\n",
       "        text-align: right;\n",
       "    }\n",
       "</style>\n",
       "<table border=\"1\" class=\"dataframe\">\n",
       "  <thead>\n",
       "    <tr style=\"text-align: right;\">\n",
       "      <th></th>\n",
       "      <th>Car_Name</th>\n",
       "      <th>Year</th>\n",
       "      <th>Selling_Price</th>\n",
       "      <th>Present_Price</th>\n",
       "      <th>Kms_Driven</th>\n",
       "      <th>Fuel_Type</th>\n",
       "      <th>Seller_Type</th>\n",
       "      <th>Transmission</th>\n",
       "      <th>Owner</th>\n",
       "    </tr>\n",
       "  </thead>\n",
       "  <tbody>\n",
       "    <tr>\n",
       "      <th>0</th>\n",
       "      <td>ritz</td>\n",
       "      <td>2014</td>\n",
       "      <td>3.35</td>\n",
       "      <td>5.59</td>\n",
       "      <td>27000</td>\n",
       "      <td>0</td>\n",
       "      <td>Dealer</td>\n",
       "      <td>Manual</td>\n",
       "      <td>0</td>\n",
       "    </tr>\n",
       "    <tr>\n",
       "      <th>1</th>\n",
       "      <td>sx4</td>\n",
       "      <td>2013</td>\n",
       "      <td>4.75</td>\n",
       "      <td>9.54</td>\n",
       "      <td>43000</td>\n",
       "      <td>1</td>\n",
       "      <td>Dealer</td>\n",
       "      <td>Manual</td>\n",
       "      <td>0</td>\n",
       "    </tr>\n",
       "    <tr>\n",
       "      <th>2</th>\n",
       "      <td>ciaz</td>\n",
       "      <td>2017</td>\n",
       "      <td>7.25</td>\n",
       "      <td>9.85</td>\n",
       "      <td>6900</td>\n",
       "      <td>0</td>\n",
       "      <td>Dealer</td>\n",
       "      <td>Manual</td>\n",
       "      <td>0</td>\n",
       "    </tr>\n",
       "    <tr>\n",
       "      <th>3</th>\n",
       "      <td>wagon r</td>\n",
       "      <td>2011</td>\n",
       "      <td>2.85</td>\n",
       "      <td>4.15</td>\n",
       "      <td>5200</td>\n",
       "      <td>0</td>\n",
       "      <td>Dealer</td>\n",
       "      <td>Manual</td>\n",
       "      <td>0</td>\n",
       "    </tr>\n",
       "    <tr>\n",
       "      <th>4</th>\n",
       "      <td>swift</td>\n",
       "      <td>2014</td>\n",
       "      <td>4.60</td>\n",
       "      <td>6.87</td>\n",
       "      <td>42450</td>\n",
       "      <td>1</td>\n",
       "      <td>Dealer</td>\n",
       "      <td>Manual</td>\n",
       "      <td>0</td>\n",
       "    </tr>\n",
       "  </tbody>\n",
       "</table>\n",
       "</div>"
      ],
      "text/plain": [
       "  Car_Name  Year  Selling_Price  Present_Price  Kms_Driven  Fuel_Type  \\\n",
       "0     ritz  2014           3.35           5.59       27000          0   \n",
       "1      sx4  2013           4.75           9.54       43000          1   \n",
       "2     ciaz  2017           7.25           9.85        6900          0   \n",
       "3  wagon r  2011           2.85           4.15        5200          0   \n",
       "4    swift  2014           4.60           6.87       42450          1   \n",
       "\n",
       "  Seller_Type Transmission  Owner  \n",
       "0      Dealer       Manual      0  \n",
       "1      Dealer       Manual      0  \n",
       "2      Dealer       Manual      0  \n",
       "3      Dealer       Manual      0  \n",
       "4      Dealer       Manual      0  "
      ]
     },
     "execution_count": 118,
     "metadata": {},
     "output_type": "execute_result"
    }
   ],
   "source": [
    "data['Fuel_Type'].replace({'Petrol':0,'Diesel':1,'CNG':2},inplace=True)\n",
    "data.head()"
   ]
  },
  {
   "cell_type": "code",
   "execution_count": 119,
   "metadata": {},
   "outputs": [
    {
     "data": {
      "text/plain": [
       "Dealer        195\n",
       "Individual    106\n",
       "Name: Seller_Type, dtype: int64"
      ]
     },
     "execution_count": 119,
     "metadata": {},
     "output_type": "execute_result"
    }
   ],
   "source": [
    "data['Seller_Type'].value_counts()"
   ]
  },
  {
   "cell_type": "code",
   "execution_count": 120,
   "metadata": {},
   "outputs": [
    {
     "data": {
      "text/html": [
       "<div>\n",
       "<style scoped>\n",
       "    .dataframe tbody tr th:only-of-type {\n",
       "        vertical-align: middle;\n",
       "    }\n",
       "\n",
       "    .dataframe tbody tr th {\n",
       "        vertical-align: top;\n",
       "    }\n",
       "\n",
       "    .dataframe thead th {\n",
       "        text-align: right;\n",
       "    }\n",
       "</style>\n",
       "<table border=\"1\" class=\"dataframe\">\n",
       "  <thead>\n",
       "    <tr style=\"text-align: right;\">\n",
       "      <th></th>\n",
       "      <th>Car_Name</th>\n",
       "      <th>Year</th>\n",
       "      <th>Selling_Price</th>\n",
       "      <th>Present_Price</th>\n",
       "      <th>Kms_Driven</th>\n",
       "      <th>Fuel_Type</th>\n",
       "      <th>Seller_Type</th>\n",
       "      <th>Transmission</th>\n",
       "      <th>Owner</th>\n",
       "    </tr>\n",
       "  </thead>\n",
       "  <tbody>\n",
       "    <tr>\n",
       "      <th>0</th>\n",
       "      <td>ritz</td>\n",
       "      <td>2014</td>\n",
       "      <td>3.35</td>\n",
       "      <td>5.59</td>\n",
       "      <td>27000</td>\n",
       "      <td>0</td>\n",
       "      <td>0</td>\n",
       "      <td>Manual</td>\n",
       "      <td>0</td>\n",
       "    </tr>\n",
       "    <tr>\n",
       "      <th>1</th>\n",
       "      <td>sx4</td>\n",
       "      <td>2013</td>\n",
       "      <td>4.75</td>\n",
       "      <td>9.54</td>\n",
       "      <td>43000</td>\n",
       "      <td>1</td>\n",
       "      <td>0</td>\n",
       "      <td>Manual</td>\n",
       "      <td>0</td>\n",
       "    </tr>\n",
       "    <tr>\n",
       "      <th>2</th>\n",
       "      <td>ciaz</td>\n",
       "      <td>2017</td>\n",
       "      <td>7.25</td>\n",
       "      <td>9.85</td>\n",
       "      <td>6900</td>\n",
       "      <td>0</td>\n",
       "      <td>0</td>\n",
       "      <td>Manual</td>\n",
       "      <td>0</td>\n",
       "    </tr>\n",
       "    <tr>\n",
       "      <th>3</th>\n",
       "      <td>wagon r</td>\n",
       "      <td>2011</td>\n",
       "      <td>2.85</td>\n",
       "      <td>4.15</td>\n",
       "      <td>5200</td>\n",
       "      <td>0</td>\n",
       "      <td>0</td>\n",
       "      <td>Manual</td>\n",
       "      <td>0</td>\n",
       "    </tr>\n",
       "    <tr>\n",
       "      <th>4</th>\n",
       "      <td>swift</td>\n",
       "      <td>2014</td>\n",
       "      <td>4.60</td>\n",
       "      <td>6.87</td>\n",
       "      <td>42450</td>\n",
       "      <td>1</td>\n",
       "      <td>0</td>\n",
       "      <td>Manual</td>\n",
       "      <td>0</td>\n",
       "    </tr>\n",
       "  </tbody>\n",
       "</table>\n",
       "</div>"
      ],
      "text/plain": [
       "  Car_Name  Year  Selling_Price  Present_Price  Kms_Driven  Fuel_Type  \\\n",
       "0     ritz  2014           3.35           5.59       27000          0   \n",
       "1      sx4  2013           4.75           9.54       43000          1   \n",
       "2     ciaz  2017           7.25           9.85        6900          0   \n",
       "3  wagon r  2011           2.85           4.15        5200          0   \n",
       "4    swift  2014           4.60           6.87       42450          1   \n",
       "\n",
       "   Seller_Type Transmission  Owner  \n",
       "0            0       Manual      0  \n",
       "1            0       Manual      0  \n",
       "2            0       Manual      0  \n",
       "3            0       Manual      0  \n",
       "4            0       Manual      0  "
      ]
     },
     "execution_count": 120,
     "metadata": {},
     "output_type": "execute_result"
    }
   ],
   "source": [
    "data['Seller_Type'].replace({'Dealer':0,'Individual':1},inplace=True)\n",
    "data.head()"
   ]
  },
  {
   "cell_type": "code",
   "execution_count": 121,
   "metadata": {},
   "outputs": [
    {
     "data": {
      "text/plain": [
       "Manual       261\n",
       "Automatic     40\n",
       "Name: Transmission, dtype: int64"
      ]
     },
     "execution_count": 121,
     "metadata": {},
     "output_type": "execute_result"
    }
   ],
   "source": [
    "data['Transmission'].value_counts()"
   ]
  },
  {
   "cell_type": "code",
   "execution_count": 122,
   "metadata": {},
   "outputs": [
    {
     "data": {
      "text/html": [
       "<div>\n",
       "<style scoped>\n",
       "    .dataframe tbody tr th:only-of-type {\n",
       "        vertical-align: middle;\n",
       "    }\n",
       "\n",
       "    .dataframe tbody tr th {\n",
       "        vertical-align: top;\n",
       "    }\n",
       "\n",
       "    .dataframe thead th {\n",
       "        text-align: right;\n",
       "    }\n",
       "</style>\n",
       "<table border=\"1\" class=\"dataframe\">\n",
       "  <thead>\n",
       "    <tr style=\"text-align: right;\">\n",
       "      <th></th>\n",
       "      <th>Car_Name</th>\n",
       "      <th>Year</th>\n",
       "      <th>Selling_Price</th>\n",
       "      <th>Present_Price</th>\n",
       "      <th>Kms_Driven</th>\n",
       "      <th>Fuel_Type</th>\n",
       "      <th>Seller_Type</th>\n",
       "      <th>Transmission</th>\n",
       "      <th>Owner</th>\n",
       "    </tr>\n",
       "  </thead>\n",
       "  <tbody>\n",
       "    <tr>\n",
       "      <th>0</th>\n",
       "      <td>ritz</td>\n",
       "      <td>2014</td>\n",
       "      <td>3.35</td>\n",
       "      <td>5.59</td>\n",
       "      <td>27000</td>\n",
       "      <td>0</td>\n",
       "      <td>0</td>\n",
       "      <td>0</td>\n",
       "      <td>0</td>\n",
       "    </tr>\n",
       "    <tr>\n",
       "      <th>1</th>\n",
       "      <td>sx4</td>\n",
       "      <td>2013</td>\n",
       "      <td>4.75</td>\n",
       "      <td>9.54</td>\n",
       "      <td>43000</td>\n",
       "      <td>1</td>\n",
       "      <td>0</td>\n",
       "      <td>0</td>\n",
       "      <td>0</td>\n",
       "    </tr>\n",
       "    <tr>\n",
       "      <th>2</th>\n",
       "      <td>ciaz</td>\n",
       "      <td>2017</td>\n",
       "      <td>7.25</td>\n",
       "      <td>9.85</td>\n",
       "      <td>6900</td>\n",
       "      <td>0</td>\n",
       "      <td>0</td>\n",
       "      <td>0</td>\n",
       "      <td>0</td>\n",
       "    </tr>\n",
       "    <tr>\n",
       "      <th>3</th>\n",
       "      <td>wagon r</td>\n",
       "      <td>2011</td>\n",
       "      <td>2.85</td>\n",
       "      <td>4.15</td>\n",
       "      <td>5200</td>\n",
       "      <td>0</td>\n",
       "      <td>0</td>\n",
       "      <td>0</td>\n",
       "      <td>0</td>\n",
       "    </tr>\n",
       "    <tr>\n",
       "      <th>4</th>\n",
       "      <td>swift</td>\n",
       "      <td>2014</td>\n",
       "      <td>4.60</td>\n",
       "      <td>6.87</td>\n",
       "      <td>42450</td>\n",
       "      <td>1</td>\n",
       "      <td>0</td>\n",
       "      <td>0</td>\n",
       "      <td>0</td>\n",
       "    </tr>\n",
       "  </tbody>\n",
       "</table>\n",
       "</div>"
      ],
      "text/plain": [
       "  Car_Name  Year  Selling_Price  Present_Price  Kms_Driven  Fuel_Type  \\\n",
       "0     ritz  2014           3.35           5.59       27000          0   \n",
       "1      sx4  2013           4.75           9.54       43000          1   \n",
       "2     ciaz  2017           7.25           9.85        6900          0   \n",
       "3  wagon r  2011           2.85           4.15        5200          0   \n",
       "4    swift  2014           4.60           6.87       42450          1   \n",
       "\n",
       "   Seller_Type  Transmission  Owner  \n",
       "0            0             0      0  \n",
       "1            0             0      0  \n",
       "2            0             0      0  \n",
       "3            0             0      0  \n",
       "4            0             0      0  "
      ]
     },
     "execution_count": 122,
     "metadata": {},
     "output_type": "execute_result"
    }
   ],
   "source": [
    "data['Transmission'].replace({'Manual':0,'Automatic':1},inplace=True)\n",
    "data.head()"
   ]
  },
  {
   "cell_type": "code",
   "execution_count": 123,
   "metadata": {},
   "outputs": [
    {
     "data": {
      "text/plain": [
       "Car_Name         0\n",
       "Year             0\n",
       "Selling_Price    0\n",
       "Present_Price    0\n",
       "Kms_Driven       0\n",
       "Fuel_Type        0\n",
       "Seller_Type      0\n",
       "Transmission     0\n",
       "Owner            0\n",
       "dtype: int64"
      ]
     },
     "execution_count": 123,
     "metadata": {},
     "output_type": "execute_result"
    }
   ],
   "source": [
    "##check missing values\n",
    "data.isnull().sum()"
   ]
  },
  {
   "cell_type": "code",
   "execution_count": 124,
   "metadata": {},
   "outputs": [],
   "source": [
    "data['Car_Name'] = data['Car_Name'].apply(lambda x: x.replace(' ','_'))\n",
    "data['Car_Name'] = data['Car_Name'].apply(lambda x: x.lower())"
   ]
  },
  {
   "cell_type": "code",
   "execution_count": 125,
   "metadata": {},
   "outputs": [
    {
     "data": {
      "text/plain": [
       "80    corolla_altis\n",
       "81         etios_gd\n",
       "82           innova\n",
       "83           innova\n",
       "84           innova\n",
       "85            camry\n",
       "86     land_cruiser\n",
       "87    corolla_altis\n",
       "88       etios_liva\n",
       "89          etios_g\n",
       "90    corolla_altis\n",
       "91           innova\n",
       "92           innova\n",
       "93         fortuner\n",
       "94    corolla_altis\n",
       "95    corolla_altis\n",
       "96           innova\n",
       "97    corolla_altis\n",
       "98    corolla_altis\n",
       "99         fortuner\n",
       "Name: Car_Name, dtype: object"
      ]
     },
     "execution_count": 125,
     "metadata": {},
     "output_type": "execute_result"
    }
   ],
   "source": [
    "data['Car_Name'][80:100]"
   ]
  },
  {
   "cell_type": "code",
   "execution_count": 126,
   "metadata": {},
   "outputs": [
    {
     "data": {
      "text/html": [
       "<div>\n",
       "<style scoped>\n",
       "    .dataframe tbody tr th:only-of-type {\n",
       "        vertical-align: middle;\n",
       "    }\n",
       "\n",
       "    .dataframe tbody tr th {\n",
       "        vertical-align: top;\n",
       "    }\n",
       "\n",
       "    .dataframe thead th {\n",
       "        text-align: right;\n",
       "    }\n",
       "</style>\n",
       "<table border=\"1\" class=\"dataframe\">\n",
       "  <thead>\n",
       "    <tr style=\"text-align: right;\">\n",
       "      <th></th>\n",
       "      <th>Car_Name</th>\n",
       "      <th>Year</th>\n",
       "      <th>Selling_Price</th>\n",
       "      <th>Present_Price</th>\n",
       "      <th>Kms_Driven</th>\n",
       "      <th>Fuel_Type</th>\n",
       "      <th>Seller_Type</th>\n",
       "      <th>Transmission</th>\n",
       "      <th>Owner</th>\n",
       "      <th>num_years</th>\n",
       "    </tr>\n",
       "  </thead>\n",
       "  <tbody>\n",
       "    <tr>\n",
       "      <th>0</th>\n",
       "      <td>ritz</td>\n",
       "      <td>2014</td>\n",
       "      <td>3.35</td>\n",
       "      <td>5.59</td>\n",
       "      <td>27000</td>\n",
       "      <td>0</td>\n",
       "      <td>0</td>\n",
       "      <td>0</td>\n",
       "      <td>0</td>\n",
       "      <td>6</td>\n",
       "    </tr>\n",
       "    <tr>\n",
       "      <th>1</th>\n",
       "      <td>sx4</td>\n",
       "      <td>2013</td>\n",
       "      <td>4.75</td>\n",
       "      <td>9.54</td>\n",
       "      <td>43000</td>\n",
       "      <td>1</td>\n",
       "      <td>0</td>\n",
       "      <td>0</td>\n",
       "      <td>0</td>\n",
       "      <td>7</td>\n",
       "    </tr>\n",
       "    <tr>\n",
       "      <th>2</th>\n",
       "      <td>ciaz</td>\n",
       "      <td>2017</td>\n",
       "      <td>7.25</td>\n",
       "      <td>9.85</td>\n",
       "      <td>6900</td>\n",
       "      <td>0</td>\n",
       "      <td>0</td>\n",
       "      <td>0</td>\n",
       "      <td>0</td>\n",
       "      <td>3</td>\n",
       "    </tr>\n",
       "    <tr>\n",
       "      <th>3</th>\n",
       "      <td>wagon_r</td>\n",
       "      <td>2011</td>\n",
       "      <td>2.85</td>\n",
       "      <td>4.15</td>\n",
       "      <td>5200</td>\n",
       "      <td>0</td>\n",
       "      <td>0</td>\n",
       "      <td>0</td>\n",
       "      <td>0</td>\n",
       "      <td>9</td>\n",
       "    </tr>\n",
       "    <tr>\n",
       "      <th>4</th>\n",
       "      <td>swift</td>\n",
       "      <td>2014</td>\n",
       "      <td>4.60</td>\n",
       "      <td>6.87</td>\n",
       "      <td>42450</td>\n",
       "      <td>1</td>\n",
       "      <td>0</td>\n",
       "      <td>0</td>\n",
       "      <td>0</td>\n",
       "      <td>6</td>\n",
       "    </tr>\n",
       "  </tbody>\n",
       "</table>\n",
       "</div>"
      ],
      "text/plain": [
       "  Car_Name  Year  Selling_Price  Present_Price  Kms_Driven  Fuel_Type  \\\n",
       "0     ritz  2014           3.35           5.59       27000          0   \n",
       "1      sx4  2013           4.75           9.54       43000          1   \n",
       "2     ciaz  2017           7.25           9.85        6900          0   \n",
       "3  wagon_r  2011           2.85           4.15        5200          0   \n",
       "4    swift  2014           4.60           6.87       42450          1   \n",
       "\n",
       "   Seller_Type  Transmission  Owner  num_years  \n",
       "0            0             0      0          6  \n",
       "1            0             0      0          7  \n",
       "2            0             0      0          3  \n",
       "3            0             0      0          9  \n",
       "4            0             0      0          6  "
      ]
     },
     "execution_count": 126,
     "metadata": {},
     "output_type": "execute_result"
    }
   ],
   "source": [
    "data['num_years'] = data['Year'].apply(lambda x: 2020-x)\n",
    "data.head()"
   ]
  },
  {
   "cell_type": "code",
   "execution_count": 127,
   "metadata": {},
   "outputs": [
    {
     "data": {
      "text/plain": [
       "<matplotlib.axes._subplots.AxesSubplot at 0x21d8ade6f08>"
      ]
     },
     "execution_count": 127,
     "metadata": {},
     "output_type": "execute_result"
    },
    {
     "data": {
      "image/png": "[encoded data removed]",
      "text/plain": [
       "<Figure size 864x576 with 2 Axes>"
      ]
     },
     "metadata": {
      "needs_background": "light"
     },
     "output_type": "display_data"
    }
   ],
   "source": [
    "import matplotlib.pyplot as plt\n",
    "import seaborn as sns\n",
    "corr = data.corr()\n",
    "plt.figure(figsize=(12,8))\n",
    "sns.heatmap(corr, \n",
    "        xticklabels=corr.columns,\n",
    "        yticklabels=corr.columns,annot=True)"
   ]
  },
  {
   "cell_type": "code",
   "execution_count": 128,
   "metadata": {},
   "outputs": [
    {
     "data": {
      "text/html": [
       "<div>\n",
       "<style scoped>\n",
       "    .dataframe tbody tr th:only-of-type {\n",
       "        vertical-align: middle;\n",
       "    }\n",
       "\n",
       "    .dataframe tbody tr th {\n",
       "        vertical-align: top;\n",
       "    }\n",
       "\n",
       "    .dataframe thead th {\n",
       "        text-align: right;\n",
       "    }\n",
       "</style>\n",
       "<table border=\"1\" class=\"dataframe\">\n",
       "  <thead>\n",
       "    <tr style=\"text-align: right;\">\n",
       "      <th></th>\n",
       "      <th>Car_Name</th>\n",
       "      <th>Present_Price</th>\n",
       "      <th>Kms_Driven</th>\n",
       "      <th>Fuel_Type</th>\n",
       "      <th>Seller_Type</th>\n",
       "      <th>Transmission</th>\n",
       "      <th>Owner</th>\n",
       "      <th>num_years</th>\n",
       "    </tr>\n",
       "  </thead>\n",
       "  <tbody>\n",
       "    <tr>\n",
       "      <th>0</th>\n",
       "      <td>ritz</td>\n",
       "      <td>5.59</td>\n",
       "      <td>27000</td>\n",
       "      <td>0</td>\n",
       "      <td>0</td>\n",
       "      <td>0</td>\n",
       "      <td>0</td>\n",
       "      <td>6</td>\n",
       "    </tr>\n",
       "    <tr>\n",
       "      <th>1</th>\n",
       "      <td>sx4</td>\n",
       "      <td>9.54</td>\n",
       "      <td>43000</td>\n",
       "      <td>1</td>\n",
       "      <td>0</td>\n",
       "      <td>0</td>\n",
       "      <td>0</td>\n",
       "      <td>7</td>\n",
       "    </tr>\n",
       "    <tr>\n",
       "      <th>2</th>\n",
       "      <td>ciaz</td>\n",
       "      <td>9.85</td>\n",
       "      <td>6900</td>\n",
       "      <td>0</td>\n",
       "      <td>0</td>\n",
       "      <td>0</td>\n",
       "      <td>0</td>\n",
       "      <td>3</td>\n",
       "    </tr>\n",
       "    <tr>\n",
       "      <th>3</th>\n",
       "      <td>wagon_r</td>\n",
       "      <td>4.15</td>\n",
       "      <td>5200</td>\n",
       "      <td>0</td>\n",
       "      <td>0</td>\n",
       "      <td>0</td>\n",
       "      <td>0</td>\n",
       "      <td>9</td>\n",
       "    </tr>\n",
       "    <tr>\n",
       "      <th>4</th>\n",
       "      <td>swift</td>\n",
       "      <td>6.87</td>\n",
       "      <td>42450</td>\n",
       "      <td>1</td>\n",
       "      <td>0</td>\n",
       "      <td>0</td>\n",
       "      <td>0</td>\n",
       "      <td>6</td>\n",
       "    </tr>\n",
       "  </tbody>\n",
       "</table>\n",
       "</div>"
      ],
      "text/plain": [
       "  Car_Name  Present_Price  Kms_Driven  Fuel_Type  Seller_Type  Transmission  \\\n",
       "0     ritz           5.59       27000          0            0             0   \n",
       "1      sx4           9.54       43000          1            0             0   \n",
       "2     ciaz           9.85        6900          0            0             0   \n",
       "3  wagon_r           4.15        5200          0            0             0   \n",
       "4    swift           6.87       42450          1            0             0   \n",
       "\n",
       "   Owner  num_years  \n",
       "0      0          6  \n",
       "1      0          7  \n",
       "2      0          3  \n",
       "3      0          9  \n",
       "4      0          6  "
      ]
     },
     "execution_count": 128,
     "metadata": {},
     "output_type": "execute_result"
    }
   ],
   "source": [
    "y = data['Selling_Price'].values.reshape(-1,1)\n",
    "X = data.drop(['Selling_Price','Year'],axis=1)\n",
    "X.head()"
   ]
  },
  {
   "cell_type": "code",
   "execution_count": 129,
   "metadata": {},
   "outputs": [
    {
     "data": {
      "text/plain": [
       "((301, 8), (301, 1))"
      ]
     },
     "execution_count": 129,
     "metadata": {},
     "output_type": "execute_result"
    }
   ],
   "source": [
    "X.shape,y.shape"
   ]
  },
  {
   "cell_type": "code",
   "execution_count": 130,
   "metadata": {},
   "outputs": [
    {
     "name": "stdout",
     "output_type": "stream",
     "text": [
      "(240, 8) (240, 1)\n",
      "(61, 8) (61, 1)\n"
     ]
    }
   ],
   "source": [
    "from sklearn.model_selection import train_test_split\n",
    "X_train, X_test, y_train, y_test = train_test_split(X, y, test_size=0.2,random_state=0)\n",
    "\n",
    "print(X_train.shape, y_train.shape)\n",
    "print(X_test.shape, y_test.shape)"
   ]
  },
  {
   "cell_type": "code",
   "execution_count": 131,
   "metadata": {},
   "outputs": [
    {
     "data": {
      "text/html": [
       "<div>\n",
       "<style scoped>\n",
       "    .dataframe tbody tr th:only-of-type {\n",
       "        vertical-align: middle;\n",
       "    }\n",
       "\n",
       "    .dataframe tbody tr th {\n",
       "        vertical-align: top;\n",
       "    }\n",
       "\n",
       "    .dataframe thead th {\n",
       "        text-align: right;\n",
       "    }\n",
       "</style>\n",
       "<table border=\"1\" class=\"dataframe\">\n",
       "  <thead>\n",
       "    <tr style=\"text-align: right;\">\n",
       "      <th></th>\n",
       "      <th>Car_Name</th>\n",
       "      <th>Present_Price</th>\n",
       "      <th>Kms_Driven</th>\n",
       "      <th>Fuel_Type</th>\n",
       "      <th>Seller_Type</th>\n",
       "      <th>Transmission</th>\n",
       "      <th>Owner</th>\n",
       "      <th>num_years</th>\n",
       "    </tr>\n",
       "  </thead>\n",
       "  <tbody>\n",
       "    <tr>\n",
       "      <th>74</th>\n",
       "      <td>etios_cross</td>\n",
       "      <td>8.93</td>\n",
       "      <td>83000</td>\n",
       "      <td>1</td>\n",
       "      <td>0</td>\n",
       "      <td>0</td>\n",
       "      <td>0</td>\n",
       "      <td>6</td>\n",
       "    </tr>\n",
       "    <tr>\n",
       "      <th>239</th>\n",
       "      <td>eon</td>\n",
       "      <td>4.43</td>\n",
       "      <td>23709</td>\n",
       "      <td>0</td>\n",
       "      <td>0</td>\n",
       "      <td>0</td>\n",
       "      <td>0</td>\n",
       "      <td>8</td>\n",
       "    </tr>\n",
       "    <tr>\n",
       "      <th>64</th>\n",
       "      <td>fortuner</td>\n",
       "      <td>36.23</td>\n",
       "      <td>6000</td>\n",
       "      <td>1</td>\n",
       "      <td>0</td>\n",
       "      <td>1</td>\n",
       "      <td>0</td>\n",
       "      <td>3</td>\n",
       "    </tr>\n",
       "    <tr>\n",
       "      <th>294</th>\n",
       "      <td>amaze</td>\n",
       "      <td>6.80</td>\n",
       "      <td>33019</td>\n",
       "      <td>0</td>\n",
       "      <td>0</td>\n",
       "      <td>0</td>\n",
       "      <td>0</td>\n",
       "      <td>6</td>\n",
       "    </tr>\n",
       "    <tr>\n",
       "      <th>286</th>\n",
       "      <td>jazz</td>\n",
       "      <td>7.90</td>\n",
       "      <td>28569</td>\n",
       "      <td>0</td>\n",
       "      <td>0</td>\n",
       "      <td>0</td>\n",
       "      <td>0</td>\n",
       "      <td>4</td>\n",
       "    </tr>\n",
       "  </tbody>\n",
       "</table>\n",
       "</div>"
      ],
      "text/plain": [
       "        Car_Name  Present_Price  Kms_Driven  Fuel_Type  Seller_Type  \\\n",
       "74   etios_cross           8.93       83000          1            0   \n",
       "239          eon           4.43       23709          0            0   \n",
       "64      fortuner          36.23        6000          1            0   \n",
       "294        amaze           6.80       33019          0            0   \n",
       "286         jazz           7.90       28569          0            0   \n",
       "\n",
       "     Transmission  Owner  num_years  \n",
       "74              0      0          6  \n",
       "239             0      0          8  \n",
       "64              1      0          3  \n",
       "294             0      0          6  \n",
       "286             0      0          4  "
      ]
     },
     "execution_count": 131,
     "metadata": {},
     "output_type": "execute_result"
    }
   ],
   "source": [
    "X_train.head()"
   ]
  },
  {
   "cell_type": "code",
   "execution_count": 132,
   "metadata": {},
   "outputs": [
    {
     "data": {
      "text/html": [
       "<div>\n",
       "<style scoped>\n",
       "    .dataframe tbody tr th:only-of-type {\n",
       "        vertical-align: middle;\n",
       "    }\n",
       "\n",
       "    .dataframe tbody tr th {\n",
       "        vertical-align: top;\n",
       "    }\n",
       "\n",
       "    .dataframe thead th {\n",
       "        text-align: right;\n",
       "    }\n",
       "</style>\n",
       "<table border=\"1\" class=\"dataframe\">\n",
       "  <thead>\n",
       "    <tr style=\"text-align: right;\">\n",
       "      <th></th>\n",
       "      <th>Car_Name</th>\n",
       "      <th>Present_Price</th>\n",
       "      <th>Kms_Driven</th>\n",
       "      <th>Fuel_Type</th>\n",
       "      <th>Seller_Type</th>\n",
       "      <th>Transmission</th>\n",
       "      <th>Owner</th>\n",
       "      <th>num_years</th>\n",
       "    </tr>\n",
       "  </thead>\n",
       "  <tbody>\n",
       "    <tr>\n",
       "      <th>223</th>\n",
       "      <td>verna</td>\n",
       "      <td>9.400</td>\n",
       "      <td>61381</td>\n",
       "      <td>1</td>\n",
       "      <td>0</td>\n",
       "      <td>0</td>\n",
       "      <td>0</td>\n",
       "      <td>5</td>\n",
       "    </tr>\n",
       "    <tr>\n",
       "      <th>150</th>\n",
       "      <td>tvs_apache_rtr_180</td>\n",
       "      <td>0.826</td>\n",
       "      <td>6000</td>\n",
       "      <td>0</td>\n",
       "      <td>1</td>\n",
       "      <td>0</td>\n",
       "      <td>0</td>\n",
       "      <td>9</td>\n",
       "    </tr>\n",
       "    <tr>\n",
       "      <th>226</th>\n",
       "      <td>grand_i10</td>\n",
       "      <td>5.700</td>\n",
       "      <td>24678</td>\n",
       "      <td>0</td>\n",
       "      <td>0</td>\n",
       "      <td>0</td>\n",
       "      <td>0</td>\n",
       "      <td>5</td>\n",
       "    </tr>\n",
       "    <tr>\n",
       "      <th>296</th>\n",
       "      <td>city</td>\n",
       "      <td>11.600</td>\n",
       "      <td>33988</td>\n",
       "      <td>1</td>\n",
       "      <td>0</td>\n",
       "      <td>0</td>\n",
       "      <td>0</td>\n",
       "      <td>4</td>\n",
       "    </tr>\n",
       "    <tr>\n",
       "      <th>52</th>\n",
       "      <td>innova</td>\n",
       "      <td>19.770</td>\n",
       "      <td>15000</td>\n",
       "      <td>1</td>\n",
       "      <td>0</td>\n",
       "      <td>1</td>\n",
       "      <td>0</td>\n",
       "      <td>3</td>\n",
       "    </tr>\n",
       "  </tbody>\n",
       "</table>\n",
       "</div>"
      ],
      "text/plain": [
       "               Car_Name  Present_Price  Kms_Driven  Fuel_Type  Seller_Type  \\\n",
       "223               verna          9.400       61381          1            0   \n",
       "150  tvs_apache_rtr_180          0.826        6000          0            1   \n",
       "226           grand_i10          5.700       24678          0            0   \n",
       "296                city         11.600       33988          1            0   \n",
       "52               innova         19.770       15000          1            0   \n",
       "\n",
       "     Transmission  Owner  num_years  \n",
       "223             0      0          5  \n",
       "150             0      0          9  \n",
       "226             0      0          5  \n",
       "296             0      0          4  \n",
       "52              1      0          3  "
      ]
     },
     "execution_count": 132,
     "metadata": {},
     "output_type": "execute_result"
    }
   ],
   "source": [
    "X_test.head()"
   ]
  },
  {
   "cell_type": "code",
   "execution_count": 133,
   "metadata": {},
   "outputs": [
    {
     "data": {
      "text/plain": [
       "90"
      ]
     },
     "execution_count": 133,
     "metadata": {},
     "output_type": "execute_result"
    }
   ],
   "source": [
    "len(X_train['Car_Name'].unique())"
   ]
  },
  {
   "cell_type": "code",
   "execution_count": 134,
   "metadata": {},
   "outputs": [
    {
     "name": "stdout",
     "output_type": "stream",
     "text": [
      "(240, 90) (61, 90)\n"
     ]
    }
   ],
   "source": [
    "from sklearn.feature_extraction.text import CountVectorizer\n",
    "\n",
    "vectorizer = CountVectorizer(binary=True)\n",
    "vectorizer.fit(X_train['Car_Name'].values)\n",
    "\n",
    "X_train_car_name = vectorizer.transform(X_train['Car_Name'])\n",
    "X_test_car_name = vectorizer.transform(X_test['Car_Name'])\n",
    "\n",
    "\n",
    "print(X_train_car_name.shape,X_test_car_name.shape)"
   ]
  },
  {
   "cell_type": "code",
   "execution_count": null,
   "metadata": {},
   "outputs": [],
   "source": []
  },
  {
   "cell_type": "code",
   "execution_count": 135,
   "metadata": {},
   "outputs": [
    {
     "name": "stdout",
     "output_type": "stream",
     "text": [
      "(240, 1) (61, 1)\n"
     ]
    }
   ],
   "source": [
    "from sklearn.preprocessing import StandardScaler\n",
    "scaler = StandardScaler()\n",
    "\n",
    "scaler.fit(X_train['Kms_Driven'].values.reshape(-1, 1))\n",
    "\n",
    "X_train_Kms_Driven=scaler.transform(X_train['Kms_Driven'].values.reshape(-1, 1))\n",
    "X_test_Kms_Driven=scaler.transform(X_test['Kms_Driven'].values.reshape(-1, 1))\n",
    "\n",
    "print(X_train_Kms_Driven.shape,X_test_Kms_Driven.shape)"
   ]
  },
  {
   "cell_type": "code",
   "execution_count": 136,
   "metadata": {},
   "outputs": [
    {
     "data": {
      "text/plain": [
       "(array([[ 1.05706025],\n",
       "        [-0.3529268 ],\n",
       "        [-0.77406088],\n",
       "        [-0.13152761],\n",
       "        [-0.23735214],\n",
       "        [ 0.51190933],\n",
       "        [ 0.55766358],\n",
       "        [-0.88583061],\n",
       "        [ 0.1058285 ],\n",
       "        [-0.32222579]]),\n",
       " array([[ 0.54294327],\n",
       "        [-0.77406088],\n",
       "        [-0.32988321],\n",
       "        [-0.10848402],\n",
       "        [-0.56003373],\n",
       "        [-0.78357319],\n",
       "        [-0.08441785],\n",
       "        [-0.89296485],\n",
       "        [-0.15576024],\n",
       "        [-0.05825898]]))"
      ]
     },
     "execution_count": 136,
     "metadata": {},
     "output_type": "execute_result"
    }
   ],
   "source": [
    "X_train_Kms_Driven[:10],X_test_Kms_Driven[:10]"
   ]
  },
  {
   "cell_type": "code",
   "execution_count": 137,
   "metadata": {},
   "outputs": [],
   "source": [
    "X_train.drop(['Car_Name','Kms_Driven'],axis=1,inplace=True)\n",
    "X_test.drop(['Car_Name','Kms_Driven'],axis=1,inplace=True)"
   ]
  },
  {
   "cell_type": "code",
   "execution_count": 138,
   "metadata": {},
   "outputs": [],
   "source": [
    "columns = list(X_train.columns.values)\n",
    "columns.extend(vectorizer.get_feature_names())\n",
    "columns.extend([\"Kms_Driven\"])"
   ]
  },
  {
   "cell_type": "code",
   "execution_count": 139,
   "metadata": {},
   "outputs": [
    {
     "data": {
      "text/plain": [
       "['Present_Price',\n",
       " 'Fuel_Type',\n",
       " 'Seller_Type',\n",
       " 'Transmission',\n",
       " 'Owner',\n",
       " 'num_years',\n",
       " '800',\n",
       " 'activa_3g',\n",
       " 'activa_4g',\n",
       " 'alto_800',\n",
       " 'alto_k10',\n",
       " 'amaze',\n",
       " 'bajaj__ct_100',\n",
       " 'bajaj_avenger_150',\n",
       " 'bajaj_avenger_150_street',\n",
       " 'bajaj_avenger_220',\n",
       " 'bajaj_avenger_220_dtsi',\n",
       " 'bajaj_avenger_street_220',\n",
       " 'bajaj_discover_100',\n",
       " 'bajaj_discover_125',\n",
       " 'bajaj_dominar_400',\n",
       " 'bajaj_pulsar_135_ls',\n",
       " 'bajaj_pulsar_150',\n",
       " 'bajaj_pulsar_220_f',\n",
       " 'bajaj_pulsar_ns_200',\n",
       " 'bajaj_pulsar_rs200',\n",
       " 'baleno',\n",
       " 'brio',\n",
       " 'camry',\n",
       " 'ciaz',\n",
       " 'city',\n",
       " 'corolla',\n",
       " 'corolla_altis',\n",
       " 'creta',\n",
       " 'dzire',\n",
       " 'elantra',\n",
       " 'eon',\n",
       " 'ertiga',\n",
       " 'etios_cross',\n",
       " 'etios_g',\n",
       " 'etios_liva',\n",
       " 'fortuner',\n",
       " 'grand_i10',\n",
       " 'hero__cbz_xtreme',\n",
       " 'hero__ignitor_disc',\n",
       " 'hero_extreme',\n",
       " 'hero_glamour',\n",
       " 'hero_honda_passion_pro',\n",
       " 'hero_hunk',\n",
       " 'hero_passion_pro',\n",
       " 'hero_passion_x_pro',\n",
       " 'hero_splender_ismart',\n",
       " 'hero_splender_plus',\n",
       " 'hero_super_splendor',\n",
       " 'honda_activa_125',\n",
       " 'honda_activa_4g',\n",
       " 'honda_cb_hornet_160r',\n",
       " 'honda_cb_shine',\n",
       " 'honda_cb_trigger',\n",
       " 'honda_cb_twister',\n",
       " 'honda_cb_unicorn',\n",
       " 'honda_cbr_150',\n",
       " 'honda_dream_yuga_',\n",
       " 'honda_karizma',\n",
       " 'i10',\n",
       " 'i20',\n",
       " 'ignis',\n",
       " 'innova',\n",
       " 'jazz',\n",
       " 'ktm_390_duke_',\n",
       " 'ktm_rc200',\n",
       " 'ktm_rc390',\n",
       " 'land_cruiser',\n",
       " 'mahindra_mojo_xt300',\n",
       " 'omni',\n",
       " 'ritz',\n",
       " 'royal_enfield_classic_350',\n",
       " 'royal_enfield_classic_500',\n",
       " 'royal_enfield_thunder_350',\n",
       " 'royal_enfield_thunder_500',\n",
       " 'suzuki_access_125',\n",
       " 'swift',\n",
       " 'sx4',\n",
       " 'tvs_apache_rtr_160',\n",
       " 'tvs_apache_rtr_180',\n",
       " 'tvs_jupyter',\n",
       " 'tvs_sport_',\n",
       " 'tvs_wego',\n",
       " 'verna',\n",
       " 'wagon_r',\n",
       " 'xcent',\n",
       " 'yamaha_fazer_',\n",
       " 'yamaha_fz_16',\n",
       " 'yamaha_fz__v_2',\n",
       " 'yamaha_fz_s_',\n",
       " 'yamaha_fz_s_v_2',\n",
       " 'Kms_Driven']"
      ]
     },
     "execution_count": 139,
     "metadata": {},
     "output_type": "execute_result"
    }
   ],
   "source": [
    "columns"
   ]
  },
  {
   "cell_type": "code",
   "execution_count": 140,
   "metadata": {},
   "outputs": [
    {
     "name": "stdout",
     "output_type": "stream",
     "text": [
      "Final Data matrix\n",
      "(240, 97) (240, 1)\n",
      "(61, 97) (61, 1)\n",
      "====================================================================================================\n"
     ]
    }
   ],
   "source": [
    "from scipy.sparse import hstack\n",
    "# merge two sparse matrices: https://stackoverflow.com/a/19710648/4084039\n",
    "\n",
    "X_tr = hstack((X_train, X_train_car_name, X_train_Kms_Driven)).tocsr()\n",
    "X_te = hstack((X_test, X_test_car_name, X_test_Kms_Driven)).tocsr()\n",
    "\n",
    "print(\"Final Data matrix\")\n",
    "print(X_tr.shape, y_train.shape)\n",
    "print(X_te.shape, y_test.shape)\n",
    "print(\"=\"*100)"
   ]
  },
  {
   "cell_type": "code",
   "execution_count": 141,
   "metadata": {},
   "outputs": [],
   "source": [
    "from sklearn.linear_model import LinearRegression\n",
    "from sklearn.tree import DecisionTreeRegressor\n",
    "from sklearn.linear_model import Lasso\n",
    "from sklearn.neighbors import KNeighborsRegressor\n",
    "from sklearn.tree import DecisionTreeRegressor\n",
    "from sklearn.ensemble import RandomForestRegressor\n",
    "from sklearn.linear_model import Ridge\n",
    "from sklearn.model_selection import GridSearchCV\n",
    "from sklearn.model_selection import RandomizedSearchCV"
   ]
  },
  {
   "cell_type": "code",
   "execution_count": 142,
   "metadata": {},
   "outputs": [
    {
     "data": {
      "text/plain": [
       "LinearRegression(copy_X=True, fit_intercept=True, n_jobs=None, normalize=False)"
      ]
     },
     "execution_count": 142,
     "metadata": {},
     "output_type": "execute_result"
    }
   ],
   "source": [
    "lr = LinearRegression()\n",
    "lr.fit(X_tr,y_train)"
   ]
  },
  {
   "cell_type": "code",
   "execution_count": 143,
   "metadata": {},
   "outputs": [],
   "source": [
    "predicted = lr.predict(X_te)"
   ]
  },
  {
   "cell_type": "code",
   "execution_count": 144,
   "metadata": {},
   "outputs": [
    {
     "data": {
      "text/plain": [
       "1.2348649397430442"
      ]
     },
     "execution_count": 144,
     "metadata": {},
     "output_type": "execute_result"
    }
   ],
   "source": [
    "mean_squared_error(y_test,predicted)"
   ]
  },
  {
   "cell_type": "code",
   "execution_count": 145,
   "metadata": {},
   "outputs": [
    {
     "data": {
      "text/plain": [
       "<matplotlib.axes._subplots.AxesSubplot at 0x21d8b1236c8>"
      ]
     },
     "execution_count": 145,
     "metadata": {},
     "output_type": "execute_result"
    },
    {
     "data": {
      "image/png": "[encoded data removed]",
      "text/plain": [
       "<Figure size 432x288 with 1 Axes>"
      ]
     },
     "metadata": {
      "needs_background": "light"
     },
     "output_type": "display_data"
    }
   ],
   "source": [
    "sns.distplot(abs(y_test-predicted))"
   ]
  },
  {
   "cell_type": "code",
   "execution_count": 146,
   "metadata": {},
   "outputs": [
    {
     "data": {
      "image/png": "[encoded data removed]",
      "text/plain": [
       "<Figure size 432x288 with 1 Axes>"
      ]
     },
     "metadata": {
      "needs_background": "light"
     },
     "output_type": "display_data"
    }
   ],
   "source": [
    "line = [i for i in range(int(max(y_test)+2))]\n",
    "\n",
    "sns.scatterplot(y_test.reshape(-1),predicted.reshape(-1))\n",
    "plt.plot(line,color = 'r')\n",
    "plt.show()"
   ]
  },
  {
   "cell_type": "code",
   "execution_count": null,
   "metadata": {},
   "outputs": [],
   "source": []
  },
  {
   "cell_type": "code",
   "execution_count": null,
   "metadata": {},
   "outputs": [],
   "source": []
  },
  {
   "cell_type": "code",
   "execution_count": null,
   "metadata": {},
   "outputs": [],
   "source": []
  },
  {
   "cell_type": "code",
   "execution_count": 147,
   "metadata": {},
   "outputs": [],
   "source": [
    "alphas = {'alpha': [5, 0.5, 0.05, 0.005, 0.0005, 1, 0.1, 0.01, 0.001, 0.0001, 0 ]}"
   ]
  },
  {
   "cell_type": "code",
   "execution_count": 148,
   "metadata": {},
   "outputs": [
    {
     "name": "stdout",
     "output_type": "stream",
     "text": [
      "Fitting 5 folds for each of 10 candidates, totalling 50 fits\n",
      "[CV] alpha=1 .........................................................\n",
      "[CV] .......................................... alpha=1, total=   0.0s\n",
      "[CV] alpha=1 .........................................................\n",
      "[CV] .......................................... alpha=1, total=   0.0s\n",
      "[CV] alpha=1 .........................................................\n",
      "[CV] .......................................... alpha=1, total=   0.0s\n",
      "[CV] alpha=1 .........................................................\n",
      "[CV] .......................................... alpha=1, total=   0.0s\n",
      "[CV] alpha=1 .........................................................\n",
      "[CV] .......................................... alpha=1, total=   0.0s\n",
      "[CV] alpha=5 .........................................................\n",
      "[CV] .......................................... alpha=5, total=   0.0s\n",
      "[CV] alpha=5 .........................................................\n",
      "[CV] .......................................... alpha=5, total=   0.0s\n",
      "[CV] alpha=5 .........................................................\n",
      "[CV] .......................................... alpha=5, total=   0.0s\n",
      "[CV] alpha=5 .........................................................\n",
      "[CV] .......................................... alpha=5, total=   0.0s\n",
      "[CV] alpha=5 .........................................................\n",
      "[CV] .......................................... alpha=5, total=   0.0s\n",
      "[CV] alpha=0.0001 ....................................................\n",
      "[CV] ..................................... alpha=0.0001, total=   0.0s\n",
      "[CV] alpha=0.0001 ....................................................\n",
      "[CV] ..................................... alpha=0.0001, total=   0.1s\n",
      "[CV] alpha=0.0001 ....................................................\n"
     ]
    },
    {
     "name": "stderr",
     "output_type": "stream",
     "text": [
      "[Parallel(n_jobs=1)]: Using backend SequentialBackend with 1 concurrent workers.\n",
      "[Parallel(n_jobs=1)]: Done   1 out of   1 | elapsed:    0.0s remaining:    0.0s\n"
     ]
    },
    {
     "name": "stdout",
     "output_type": "stream",
     "text": [
      "[CV] ..................................... alpha=0.0001, total=   0.1s\n",
      "[CV] alpha=0.0001 ....................................................\n",
      "[CV] ..................................... alpha=0.0001, total=   0.1s\n",
      "[CV] alpha=0.0001 ....................................................\n",
      "[CV] ..................................... alpha=0.0001, total=   0.0s\n",
      "[CV] alpha=0 .........................................................\n",
      "[CV] .......................................... alpha=0, total=   0.1s\n",
      "[CV] alpha=0 .........................................................\n",
      "[CV] .......................................... alpha=0, total=   0.1s\n",
      "[CV] alpha=0 .........................................................\n",
      "[CV] .......................................... alpha=0, total=   0.1s\n",
      "[CV] alpha=0 .........................................................\n",
      "[CV] .......................................... alpha=0, total=   0.1s\n",
      "[CV] alpha=0 .........................................................\n",
      "[CV] .......................................... alpha=0, total=   0.1s\n",
      "[CV] alpha=0.05 ......................................................\n",
      "[CV] ....................................... alpha=0.05, total=   0.0s\n",
      "[CV] alpha=0.05 ......................................................\n",
      "[CV] ....................................... alpha=0.05, total=   0.0s\n",
      "[CV] alpha=0.05 ......................................................\n",
      "[CV] ....................................... alpha=0.05, total=   0.0s\n",
      "[CV] alpha=0.05 ......................................................\n",
      "[CV] ....................................... alpha=0.05, total=   0.0s\n",
      "[CV] alpha=0.05 ......................................................\n",
      "[CV] ....................................... alpha=0.05, total=   0.0s\n",
      "[CV] alpha=0.5 .......................................................\n",
      "[CV] ........................................ alpha=0.5, total=   0.0s\n",
      "[CV] alpha=0.5 .......................................................\n",
      "[CV] ........................................ alpha=0.5, total=   0.0s\n",
      "[CV] alpha=0.5 .......................................................\n",
      "[CV] ........................................ alpha=0.5, total=   0.0s\n",
      "[CV] alpha=0.5 .......................................................\n",
      "[CV] ........................................ alpha=0.5, total=   0.0s\n",
      "[CV] alpha=0.5 .......................................................\n",
      "[CV] ........................................ alpha=0.5, total=   0.0s\n",
      "[CV] alpha=0.001 .....................................................\n",
      "[CV] ...................................... alpha=0.001, total=   0.0s\n",
      "[CV] alpha=0.001 .....................................................\n",
      "[CV] ...................................... alpha=0.001, total=   0.0s\n",
      "[CV] alpha=0.001 .....................................................\n",
      "[CV] ...................................... alpha=0.001, total=   0.0s\n",
      "[CV] alpha=0.001 .....................................................\n",
      "[CV] ...................................... alpha=0.001, total=   0.0s\n",
      "[CV] alpha=0.001 .....................................................\n",
      "[CV] ...................................... alpha=0.001, total=   0.0s\n",
      "[CV] alpha=0.0005 ....................................................\n",
      "[CV] ..................................... alpha=0.0005, total=   0.0s\n",
      "[CV] alpha=0.0005 ....................................................\n",
      "[CV] ..................................... alpha=0.0005, total=   0.1s\n",
      "[CV] alpha=0.0005 ....................................................\n",
      "[CV] ..................................... alpha=0.0005, total=   0.1s\n",
      "[CV] alpha=0.0005 ....................................................\n",
      "[CV] ..................................... alpha=0.0005, total=   0.0s\n",
      "[CV] alpha=0.0005 ....................................................\n",
      "[CV] ..................................... alpha=0.0005, total=   0.0s\n",
      "[CV] alpha=0.01 ......................................................\n",
      "[CV] ....................................... alpha=0.01, total=   0.0s\n",
      "[CV] alpha=0.01 ......................................................\n",
      "[CV] ....................................... alpha=0.01, total=   0.0s\n",
      "[CV] alpha=0.01 ......................................................\n",
      "[CV] ....................................... alpha=0.01, total=   0.0s\n",
      "[CV] alpha=0.01 ......................................................\n",
      "[CV] ....................................... alpha=0.01, total=   0.0s\n",
      "[CV] alpha=0.01 ......................................................\n",
      "[CV] ....................................... alpha=0.01, total=   0.0s\n",
      "[CV] alpha=0.005 .....................................................\n",
      "[CV] ...................................... alpha=0.005, total=   0.0s\n",
      "[CV] alpha=0.005 .....................................................\n",
      "[CV] ...................................... alpha=0.005, total=   0.0s\n",
      "[CV] alpha=0.005 .....................................................\n",
      "[CV] ...................................... alpha=0.005, total=   0.0s\n",
      "[CV] alpha=0.005 .....................................................\n",
      "[CV] ...................................... alpha=0.005, total=   0.0s\n",
      "[CV] alpha=0.005 .....................................................\n",
      "[CV] ...................................... alpha=0.005, total=   0.0s\n"
     ]
    },
    {
     "name": "stderr",
     "output_type": "stream",
     "text": [
      "[Parallel(n_jobs=1)]: Done  50 out of  50 | elapsed:    1.5s finished\n"
     ]
    },
    {
     "data": {
      "text/plain": [
       "RandomizedSearchCV(cv=5, error_score=nan,\n",
       "                   estimator=Lasso(alpha=1.0, copy_X=True, fit_intercept=True,\n",
       "                                   max_iter=1000, normalize=False,\n",
       "                                   positive=False, precompute=False,\n",
       "                                   random_state=None, selection='cyclic',\n",
       "                                   tol=0.0001, warm_start=False),\n",
       "                   iid='deprecated', n_iter=10, n_jobs=1,\n",
       "                   param_distributions={'alpha': [5, 0.5, 0.05, 0.005, 0.0005,\n",
       "                                                  1, 0.1, 0.01, 0.001, 0.0001,\n",
       "                                                  0]},\n",
       "                   pre_dispatch='2*n_jobs', random_state=42, refit=True,\n",
       "                   return_train_score=False, scoring='neg_mean_squared_error',\n",
       "                   verbose=2)"
      ]
     },
     "execution_count": 148,
     "metadata": {},
     "output_type": "execute_result"
    }
   ],
   "source": [
    "ls = Lasso()\n",
    "RS_CV = RandomizedSearchCV(estimator = ls, param_distributions = alphas,scoring='neg_mean_squared_error', n_iter = 10, cv = 5, verbose=2, random_state=42, n_jobs = 1)\n",
    "RS_CV.fit(X_tr, y_train)"
   ]
  },
  {
   "cell_type": "code",
   "execution_count": 149,
   "metadata": {},
   "outputs": [],
   "source": [
    "lasso_model = RS_CV.best_estimator_\n",
    "predicted = lasso_model.predict(X_te)"
   ]
  },
  {
   "cell_type": "code",
   "execution_count": 150,
   "metadata": {},
   "outputs": [
    {
     "data": {
      "text/plain": [
       "3.3332706945534243"
      ]
     },
     "execution_count": 150,
     "metadata": {},
     "output_type": "execute_result"
    }
   ],
   "source": [
    "mean_squared_error(y_test,predicted)"
   ]
  },
  {
   "cell_type": "code",
   "execution_count": 151,
   "metadata": {},
   "outputs": [
    {
     "data": {
      "text/plain": [
       "<matplotlib.axes._subplots.AxesSubplot at 0x21d8b3f6148>"
      ]
     },
     "execution_count": 151,
     "metadata": {},
     "output_type": "execute_result"
    },
    {
     "data": {
      "image/png": "[encoded data removed]",
      "text/plain": [
       "<Figure size 432x288 with 1 Axes>"
      ]
     },
     "metadata": {
      "needs_background": "light"
     },
     "output_type": "display_data"
    }
   ],
   "source": [
    "sns.distplot(abs(y_test-predicted))"
   ]
  },
  {
   "cell_type": "code",
   "execution_count": 152,
   "metadata": {},
   "outputs": [
    {
     "data": {
      "image/png": "[encoded data removed]",
      "text/plain": [
       "<Figure size 432x288 with 1 Axes>"
      ]
     },
     "metadata": {
      "needs_background": "light"
     },
     "output_type": "display_data"
    }
   ],
   "source": [
    "sns.scatterplot(y_test.reshape(-1),predicted.reshape(-1))\n",
    "plt.plot(line,color = 'r')\n",
    "plt.show()"
   ]
  },
  {
   "cell_type": "code",
   "execution_count": null,
   "metadata": {},
   "outputs": [],
   "source": []
  },
  {
   "cell_type": "code",
   "execution_count": null,
   "metadata": {},
   "outputs": [],
   "source": []
  },
  {
   "cell_type": "code",
   "execution_count": null,
   "metadata": {},
   "outputs": [],
   "source": []
  },
  {
   "cell_type": "code",
   "execution_count": 153,
   "metadata": {},
   "outputs": [
    {
     "name": "stdout",
     "output_type": "stream",
     "text": [
      "Fitting 5 folds for each of 10 candidates, totalling 50 fits\n",
      "[CV] alpha=1 .........................................................\n",
      "[CV] .......................................... alpha=1, total=   0.0s\n",
      "[CV] alpha=1 .........................................................\n",
      "[CV] .......................................... alpha=1, total=   0.0s\n",
      "[CV] alpha=1 .........................................................\n",
      "[CV] .......................................... alpha=1, total=   0.0s\n",
      "[CV] alpha=1 .........................................................\n",
      "[CV] .......................................... alpha=1, total=   0.0s\n",
      "[CV] alpha=1 .........................................................\n",
      "[CV] .......................................... alpha=1, total=   0.0s\n",
      "[CV] alpha=5 .........................................................\n",
      "[CV] .......................................... alpha=5, total=   0.0s\n",
      "[CV] alpha=5 .........................................................\n",
      "[CV] .......................................... alpha=5, total=   0.0s\n",
      "[CV] alpha=5 .........................................................\n",
      "[CV] .......................................... alpha=5, total=   0.0s\n",
      "[CV] alpha=5 .........................................................\n",
      "[CV] .......................................... alpha=5, total=   0.0s\n",
      "[CV] alpha=5 .........................................................\n",
      "[CV] .......................................... alpha=5, total=   0.0s\n",
      "[CV] alpha=0.0001 ....................................................\n",
      "[CV] ..................................... alpha=0.0001, total=   0.0s\n",
      "[CV] alpha=0.0001 ....................................................\n",
      "[CV] ..................................... alpha=0.0001, total=   0.0s\n",
      "[CV] alpha=0.0001 ....................................................\n",
      "[CV] ..................................... alpha=0.0001, total=   0.0s\n",
      "[CV] alpha=0.0001 ....................................................\n",
      "[CV] ..................................... alpha=0.0001, total=   0.0s\n",
      "[CV] alpha=0.0001 ....................................................\n",
      "[CV] ..................................... alpha=0.0001, total=   0.0s\n",
      "[CV] alpha=0 .........................................................\n",
      "[CV] .......................................... alpha=0, total=   0.0s\n",
      "[CV] alpha=0 .........................................................\n",
      "[CV] .......................................... alpha=0, total=   0.0s\n",
      "[CV] alpha=0 .........................................................\n",
      "[CV] .......................................... alpha=0, total=   0.0s\n",
      "[CV] alpha=0 .........................................................\n",
      "[CV] .......................................... alpha=0, total=   0.0s\n",
      "[CV] alpha=0 .........................................................\n",
      "[CV] .......................................... alpha=0, total=   0.0s\n",
      "[CV] alpha=0.05 ......................................................\n",
      "[CV] ....................................... alpha=0.05, total=   0.0s\n",
      "[CV] alpha=0.05 ......................................................\n",
      "[CV] ....................................... alpha=0.05, total=   0.0s\n",
      "[CV] alpha=0.05 ......................................................\n",
      "[CV] ....................................... alpha=0.05, total=   0.0s\n",
      "[CV] alpha=0.05 ......................................................\n",
      "[CV] ....................................... alpha=0.05, total=   0.0s\n",
      "[CV] alpha=0.05 ......................................................\n"
     ]
    },
    {
     "name": "stderr",
     "output_type": "stream",
     "text": [
      "[Parallel(n_jobs=1)]: Using backend SequentialBackend with 1 concurrent workers.\n",
      "[Parallel(n_jobs=1)]: Done   1 out of   1 | elapsed:    0.0s remaining:    0.0s\n"
     ]
    },
    {
     "name": "stdout",
     "output_type": "stream",
     "text": [
      "[CV] ....................................... alpha=0.05, total=   0.0s\n",
      "[CV] alpha=0.5 .......................................................\n",
      "[CV] ........................................ alpha=0.5, total=   0.0s\n",
      "[CV] alpha=0.5 .......................................................\n",
      "[CV] ........................................ alpha=0.5, total=   0.0s\n",
      "[CV] alpha=0.5 .......................................................\n",
      "[CV] ........................................ alpha=0.5, total=   0.0s\n",
      "[CV] alpha=0.5 .......................................................\n",
      "[CV] ........................................ alpha=0.5, total=   0.0s\n",
      "[CV] alpha=0.5 .......................................................\n",
      "[CV] ........................................ alpha=0.5, total=   0.0s\n",
      "[CV] alpha=0.001 .....................................................\n",
      "[CV] ...................................... alpha=0.001, total=   0.0s\n",
      "[CV] alpha=0.001 .....................................................\n",
      "[CV] ...................................... alpha=0.001, total=   0.0s\n",
      "[CV] alpha=0.001 .....................................................\n",
      "[CV] ...................................... alpha=0.001, total=   0.0s\n",
      "[CV] alpha=0.001 .....................................................\n",
      "[CV] ...................................... alpha=0.001, total=   0.0s\n",
      "[CV] alpha=0.001 .....................................................\n",
      "[CV] ...................................... alpha=0.001, total=   0.0s\n",
      "[CV] alpha=0.0005 ....................................................\n",
      "[CV] ..................................... alpha=0.0005, total=   0.0s\n",
      "[CV] alpha=0.0005 ....................................................\n",
      "[CV] ..................................... alpha=0.0005, total=   0.0s\n",
      "[CV] alpha=0.0005 ....................................................\n",
      "[CV] ..................................... alpha=0.0005, total=   0.0s\n",
      "[CV] alpha=0.0005 ....................................................\n",
      "[CV] ..................................... alpha=0.0005, total=   0.0s\n",
      "[CV] alpha=0.0005 ....................................................\n",
      "[CV] ..................................... alpha=0.0005, total=   0.0s\n",
      "[CV] alpha=0.01 ......................................................\n",
      "[CV] ....................................... alpha=0.01, total=   0.0s\n",
      "[CV] alpha=0.01 ......................................................\n",
      "[CV] ....................................... alpha=0.01, total=   0.0s\n",
      "[CV] alpha=0.01 ......................................................\n",
      "[CV] ....................................... alpha=0.01, total=   0.0s\n",
      "[CV] alpha=0.01 ......................................................\n",
      "[CV] ....................................... alpha=0.01, total=   0.0s\n",
      "[CV] alpha=0.01 ......................................................\n",
      "[CV] ....................................... alpha=0.01, total=   0.0s\n",
      "[CV] alpha=0.005 .....................................................\n",
      "[CV] ...................................... alpha=0.005, total=   0.0s\n",
      "[CV] alpha=0.005 .....................................................\n",
      "[CV] ...................................... alpha=0.005, total=   0.0s\n",
      "[CV] alpha=0.005 .....................................................\n",
      "[CV] ...................................... alpha=0.005, total=   0.0s\n",
      "[CV] alpha=0.005 .....................................................\n",
      "[CV] ...................................... alpha=0.005, total=   0.0s\n",
      "[CV] alpha=0.005 .....................................................\n",
      "[CV] ...................................... alpha=0.005, total=   0.0s\n"
     ]
    },
    {
     "name": "stderr",
     "output_type": "stream",
     "text": [
      "[Parallel(n_jobs=1)]: Done  50 out of  50 | elapsed:    0.4s finished\n"
     ]
    },
    {
     "data": {
      "text/plain": [
       "RandomizedSearchCV(cv=5, error_score=nan,\n",
       "                   estimator=Ridge(alpha=1.0, copy_X=True, fit_intercept=True,\n",
       "                                   max_iter=None, normalize=False,\n",
       "                                   random_state=None, solver='auto',\n",
       "                                   tol=0.001),\n",
       "                   iid='deprecated', n_iter=10, n_jobs=1,\n",
       "                   param_distributions={'alpha': [5, 0.5, 0.05, 0.005, 0.0005,\n",
       "                                                  1, 0.1, 0.01, 0.001, 0.0001,\n",
       "                                                  0]},\n",
       "                   pre_dispatch='2*n_jobs', random_state=42, refit=True,\n",
       "                   return_train_score=False, scoring='neg_mean_squared_error',\n",
       "                   verbose=2)"
      ]
     },
     "execution_count": 153,
     "metadata": {},
     "output_type": "execute_result"
    }
   ],
   "source": [
    "rd = Ridge()\n",
    "\n",
    "RS_CV = RandomizedSearchCV(estimator = rd, param_distributions = alphas,scoring='neg_mean_squared_error', n_iter = 10, cv = 5, verbose=2, random_state=42, n_jobs = 1)\n",
    "RS_CV.fit(X_tr, y_train)"
   ]
  },
  {
   "cell_type": "code",
   "execution_count": 154,
   "metadata": {},
   "outputs": [],
   "source": [
    "ridge_model = RS_CV.best_estimator_\n",
    "predicted = ridge_model.predict(X_te)"
   ]
  },
  {
   "cell_type": "code",
   "execution_count": 155,
   "metadata": {},
   "outputs": [
    {
     "data": {
      "text/plain": [
       "1.5284196777157044"
      ]
     },
     "execution_count": 155,
     "metadata": {},
     "output_type": "execute_result"
    }
   ],
   "source": [
    "mean_squared_error(y_test,predicted)"
   ]
  },
  {
   "cell_type": "code",
   "execution_count": 156,
   "metadata": {},
   "outputs": [
    {
     "data": {
      "text/plain": [
       "<matplotlib.axes._subplots.AxesSubplot at 0x21d8b601788>"
      ]
     },
     "execution_count": 156,
     "metadata": {},
     "output_type": "execute_result"
    },
    {
     "data": {
      "image/png": "[encoded data removed]",
      "text/plain": [
       "<Figure size 432x288 with 1 Axes>"
      ]
     },
     "metadata": {
      "needs_background": "light"
     },
     "output_type": "display_data"
    }
   ],
   "source": [
    "sns.distplot(abs(y_test-predicted))"
   ]
  },
  {
   "cell_type": "code",
   "execution_count": 157,
   "metadata": {},
   "outputs": [
    {
     "data": {
      "image/png": "[encoded data removed]",
      "text/plain": [
       "<Figure size 432x288 with 1 Axes>"
      ]
     },
     "metadata": {
      "needs_background": "light"
     },
     "output_type": "display_data"
    }
   ],
   "source": [
    "sns.scatterplot(y_test.reshape(-1),predicted.reshape(-1))\n",
    "plt.plot(line,color = 'r')\n",
    "plt.show()"
   ]
  },
  {
   "cell_type": "code",
   "execution_count": null,
   "metadata": {},
   "outputs": [],
   "source": []
  },
  {
   "cell_type": "code",
   "execution_count": null,
   "metadata": {},
   "outputs": [],
   "source": []
  },
  {
   "cell_type": "code",
   "execution_count": 158,
   "metadata": {},
   "outputs": [
    {
     "name": "stdout",
     "output_type": "stream",
     "text": [
      "Fitting 5 folds for each of 10 candidates, totalling 50 fits\n",
      "[CV] weights=distance, n_neighbors=15, metric=manhattan ..............\n",
      "[CV]  weights=distance, n_neighbors=15, metric=manhattan, total=   0.0s\n",
      "[CV] weights=distance, n_neighbors=15, metric=manhattan ..............\n",
      "[CV]  weights=distance, n_neighbors=15, metric=manhattan, total=   0.0s\n",
      "[CV] weights=distance, n_neighbors=15, metric=manhattan ..............\n",
      "[CV]  weights=distance, n_neighbors=15, metric=manhattan, total=   0.0s\n",
      "[CV] weights=distance, n_neighbors=15, metric=manhattan ..............\n",
      "[CV]  weights=distance, n_neighbors=15, metric=manhattan, total=   0.0s\n",
      "[CV] weights=distance, n_neighbors=15, metric=manhattan ..............\n",
      "[CV]  weights=distance, n_neighbors=15, metric=manhattan, total=   0.0s\n",
      "[CV] weights=distance, n_neighbors=5, metric=euclidean ...............\n",
      "[CV]  weights=distance, n_neighbors=5, metric=euclidean, total=   0.0s\n",
      "[CV] weights=distance, n_neighbors=5, metric=euclidean ...............\n",
      "[CV]  weights=distance, n_neighbors=5, metric=euclidean, total=   0.0s\n",
      "[CV] weights=distance, n_neighbors=5, metric=euclidean ...............\n",
      "[CV]  weights=distance, n_neighbors=5, metric=euclidean, total=   0.0s\n",
      "[CV] weights=distance, n_neighbors=5, metric=euclidean ...............\n",
      "[CV]  weights=distance, n_neighbors=5, metric=euclidean, total=   0.0s\n",
      "[CV] weights=distance, n_neighbors=5, metric=euclidean ...............\n",
      "[CV]  weights=distance, n_neighbors=5, metric=euclidean, total=   0.0s\n",
      "[CV] weights=uniform, n_neighbors=7, metric=manhattan ................\n",
      "[CV] . weights=uniform, n_neighbors=7, metric=manhattan, total=   0.0s\n",
      "[CV] weights=uniform, n_neighbors=7, metric=manhattan ................\n",
      "[CV] . weights=uniform, n_neighbors=7, metric=manhattan, total=   0.0s\n",
      "[CV] weights=uniform, n_neighbors=7, metric=manhattan ................\n",
      "[CV] . weights=uniform, n_neighbors=7, metric=manhattan, total=   0.0s\n",
      "[CV] weights=uniform, n_neighbors=7, metric=manhattan ................\n",
      "[CV] . weights=uniform, n_neighbors=7, metric=manhattan, total=   0.0s\n",
      "[CV] weights=uniform, n_neighbors=7, metric=manhattan ................\n",
      "[CV] . weights=uniform, n_neighbors=7, metric=manhattan, total=   0.0s\n",
      "[CV] weights=uniform, n_neighbors=11, metric=manhattan ...............\n",
      "[CV]  weights=uniform, n_neighbors=11, metric=manhattan, total=   0.0s\n",
      "[CV] weights=uniform, n_neighbors=11, metric=manhattan ...............\n",
      "[CV]  weights=uniform, n_neighbors=11, metric=manhattan, total=   0.0s\n",
      "[CV] weights=uniform, n_neighbors=11, metric=manhattan ...............\n",
      "[CV]  weights=uniform, n_neighbors=11, metric=manhattan, total=   0.0s\n",
      "[CV] weights=uniform, n_neighbors=11, metric=manhattan ...............\n",
      "[CV]  weights=uniform, n_neighbors=11, metric=manhattan, total=   0.0s\n",
      "[CV] weights=uniform, n_neighbors=11, metric=manhattan ...............\n",
      "[CV]  weights=uniform, n_neighbors=11, metric=manhattan, total=   0.0s\n",
      "[CV] weights=uniform, n_neighbors=9, metric=euclidean ................\n",
      "[CV] . weights=uniform, n_neighbors=9, metric=euclidean, total=   0.0s\n",
      "[CV] weights=uniform, n_neighbors=9, metric=euclidean ................\n",
      "[CV] . weights=uniform, n_neighbors=9, metric=euclidean, total=   0.0s\n",
      "[CV] weights=uniform, n_neighbors=9, metric=euclidean ................\n",
      "[CV] . weights=uniform, n_neighbors=9, metric=euclidean, total=   0.0s\n",
      "[CV] weights=uniform, n_neighbors=9, metric=euclidean ................\n",
      "[CV] . weights=uniform, n_neighbors=9, metric=euclidean, total=   0.0s\n",
      "[CV] weights=uniform, n_neighbors=9, metric=euclidean ................\n",
      "[CV] . weights=uniform, n_neighbors=9, metric=euclidean, total=   0.0s\n",
      "[CV] weights=distance, n_neighbors=11, metric=manhattan ..............\n",
      "[CV]  weights=distance, n_neighbors=11, metric=manhattan, total=   0.0s\n",
      "[CV] weights=distance, n_neighbors=11, metric=manhattan ..............\n",
      "[CV]  weights=distance, n_neighbors=11, metric=manhattan, total=   0.0s"
     ]
    },
    {
     "name": "stderr",
     "output_type": "stream",
     "text": [
      "[Parallel(n_jobs=1)]: Using backend SequentialBackend with 1 concurrent workers.\n",
      "[Parallel(n_jobs=1)]: Done   1 out of   1 | elapsed:    0.0s remaining:    0.0s\n"
     ]
    },
    {
     "name": "stdout",
     "output_type": "stream",
     "text": [
      "\n",
      "[CV] weights=distance, n_neighbors=11, metric=manhattan ..............\n",
      "[CV]  weights=distance, n_neighbors=11, metric=manhattan, total=   0.0s\n",
      "[CV] weights=distance, n_neighbors=11, metric=manhattan ..............\n",
      "[CV]  weights=distance, n_neighbors=11, metric=manhattan, total=   0.0s\n",
      "[CV] weights=distance, n_neighbors=11, metric=manhattan ..............\n",
      "[CV]  weights=distance, n_neighbors=11, metric=manhattan, total=   0.0s\n",
      "[CV] weights=distance, n_neighbors=13, metric=euclidean ..............\n",
      "[CV]  weights=distance, n_neighbors=13, metric=euclidean, total=   0.0s\n",
      "[CV] weights=distance, n_neighbors=13, metric=euclidean ..............\n",
      "[CV]  weights=distance, n_neighbors=13, metric=euclidean, total=   0.0s\n",
      "[CV] weights=distance, n_neighbors=13, metric=euclidean ..............\n",
      "[CV]  weights=distance, n_neighbors=13, metric=euclidean, total=   0.0s\n",
      "[CV] weights=distance, n_neighbors=13, metric=euclidean ..............\n",
      "[CV]  weights=distance, n_neighbors=13, metric=euclidean, total=   0.0s\n",
      "[CV] weights=distance, n_neighbors=13, metric=euclidean ..............\n",
      "[CV]  weights=distance, n_neighbors=13, metric=euclidean, total=   0.0s\n",
      "[CV] weights=uniform, n_neighbors=5, metric=euclidean ................\n",
      "[CV] . weights=uniform, n_neighbors=5, metric=euclidean, total=   0.0s\n",
      "[CV] weights=uniform, n_neighbors=5, metric=euclidean ................\n",
      "[CV] . weights=uniform, n_neighbors=5, metric=euclidean, total=   0.0s\n",
      "[CV] weights=uniform, n_neighbors=5, metric=euclidean ................\n",
      "[CV] . weights=uniform, n_neighbors=5, metric=euclidean, total=   0.0s\n",
      "[CV] weights=uniform, n_neighbors=5, metric=euclidean ................\n",
      "[CV] . weights=uniform, n_neighbors=5, metric=euclidean, total=   0.0s\n",
      "[CV] weights=uniform, n_neighbors=5, metric=euclidean ................\n",
      "[CV] . weights=uniform, n_neighbors=5, metric=euclidean, total=   0.0s\n",
      "[CV] weights=uniform, n_neighbors=13, metric=minkowski ...............\n",
      "[CV]  weights=uniform, n_neighbors=13, metric=minkowski, total=   0.0s\n",
      "[CV] weights=uniform, n_neighbors=13, metric=minkowski ...............\n",
      "[CV]  weights=uniform, n_neighbors=13, metric=minkowski, total=   0.0s\n",
      "[CV] weights=uniform, n_neighbors=13, metric=minkowski ...............\n",
      "[CV]  weights=uniform, n_neighbors=13, metric=minkowski, total=   0.0s\n",
      "[CV] weights=uniform, n_neighbors=13, metric=minkowski ...............\n",
      "[CV]  weights=uniform, n_neighbors=13, metric=minkowski, total=   0.0s\n",
      "[CV] weights=uniform, n_neighbors=13, metric=minkowski ...............\n",
      "[CV]  weights=uniform, n_neighbors=13, metric=minkowski, total=   0.0s\n",
      "[CV] weights=distance, n_neighbors=9, metric=euclidean ...............\n",
      "[CV]  weights=distance, n_neighbors=9, metric=euclidean, total=   0.0s\n",
      "[CV] weights=distance, n_neighbors=9, metric=euclidean ...............\n",
      "[CV]  weights=distance, n_neighbors=9, metric=euclidean, total=   0.0s\n",
      "[CV] weights=distance, n_neighbors=9, metric=euclidean ...............\n",
      "[CV]  weights=distance, n_neighbors=9, metric=euclidean, total=   0.0s\n",
      "[CV] weights=distance, n_neighbors=9, metric=euclidean ...............\n",
      "[CV]  weights=distance, n_neighbors=9, metric=euclidean, total=   0.0s\n",
      "[CV] weights=distance, n_neighbors=9, metric=euclidean ...............\n",
      "[CV]  weights=distance, n_neighbors=9, metric=euclidean, total=   0.0s\n"
     ]
    },
    {
     "name": "stderr",
     "output_type": "stream",
     "text": [
      "[Parallel(n_jobs=1)]: Done  50 out of  50 | elapsed:    0.2s finished\n"
     ]
    },
    {
     "data": {
      "text/plain": [
       "RandomizedSearchCV(cv=5, error_score=nan,\n",
       "                   estimator=KNeighborsRegressor(algorithm='auto', leaf_size=30,\n",
       "                                                 metric='minkowski',\n",
       "                                                 metric_params=None,\n",
       "                                                 n_jobs=None, n_neighbors=5,\n",
       "                                                 p=2, weights='uniform'),\n",
       "                   iid='deprecated', n_iter=10, n_jobs=1,\n",
       "                   param_distributions={'metric': ['minkowski', 'euclidean',\n",
       "                                                   'manhattan'],\n",
       "                                        'n_neighbors': [5, 7, 9, 11, 13, 15],\n",
       "                                        'weights': ['uniform', 'distance']},\n",
       "                   pre_dispatch='2*n_jobs', random_state=42, refit=True,\n",
       "                   return_train_score=False, scoring='neg_mean_squared_error',\n",
       "                   verbose=2)"
      ]
     },
     "execution_count": 158,
     "metadata": {},
     "output_type": "execute_result"
    }
   ],
   "source": [
    "knnR = KNeighborsRegressor()\n",
    "\n",
    "params = { 'n_neighbors' : [5,7,9,11,13,15],\n",
    "               'weights' : ['uniform','distance'],\n",
    "               'metric' : ['minkowski','euclidean','manhattan']}\n",
    "\n",
    "RS_CV = RandomizedSearchCV(estimator = knnR, param_distributions = params,scoring='neg_mean_squared_error', n_iter = 10, cv = 5, verbose=2, random_state=42, n_jobs = 1)\n",
    "RS_CV.fit(X_tr, y_train)"
   ]
  },
  {
   "cell_type": "code",
   "execution_count": 159,
   "metadata": {},
   "outputs": [],
   "source": [
    "KNN_reg_model = RS_CV.best_estimator_\n",
    "predicted = KNN_reg_model.predict(X_te)"
   ]
  },
  {
   "cell_type": "code",
   "execution_count": 160,
   "metadata": {},
   "outputs": [
    {
     "data": {
      "text/plain": [
       "1.1520370852916368"
      ]
     },
     "execution_count": 160,
     "metadata": {},
     "output_type": "execute_result"
    }
   ],
   "source": [
    "mean_squared_error(y_test,predicted)"
   ]
  },
  {
   "cell_type": "code",
   "execution_count": 161,
   "metadata": {},
   "outputs": [
    {
     "data": {
      "text/plain": [
       "<matplotlib.axes._subplots.AxesSubplot at 0x21d8b51e108>"
      ]
     },
     "execution_count": 161,
     "metadata": {},
     "output_type": "execute_result"
    },
    {
     "data": {
      "image/png": "[encoded data removed]",
      "text/plain": [
       "<Figure size 432x288 with 1 Axes>"
      ]
     },
     "metadata": {
      "needs_background": "light"
     },
     "output_type": "display_data"
    }
   ],
   "source": [
    "sns.distplot(abs(y_test-predicted))"
   ]
  },
  {
   "cell_type": "code",
   "execution_count": 162,
   "metadata": {},
   "outputs": [
    {
     "data": {
      "image/png": "[encoded data removed]",
      "text/plain": [
       "<Figure size 432x288 with 1 Axes>"
      ]
     },
     "metadata": {
      "needs_background": "light"
     },
     "output_type": "display_data"
    }
   ],
   "source": [
    "sns.scatterplot(y_test.reshape(-1),predicted.reshape(-1))\n",
    "plt.plot(line,color = 'r')\n",
    "plt.show()"
   ]
  },
  {
   "cell_type": "code",
   "execution_count": null,
   "metadata": {},
   "outputs": [],
   "source": []
  },
  {
   "cell_type": "code",
   "execution_count": null,
   "metadata": {},
   "outputs": [],
   "source": []
  },
  {
   "cell_type": "code",
   "execution_count": 163,
   "metadata": {},
   "outputs": [],
   "source": [
    "dtr = DecisionTreeRegressor()"
   ]
  },
  {
   "cell_type": "code",
   "execution_count": 164,
   "metadata": {},
   "outputs": [
    {
     "name": "stdout",
     "output_type": "stream",
     "text": [
      "Fitting 5 folds for each of 10 candidates, totalling 50 fits\n",
      "[CV] min_samples_leaf=9, max_leaf_nodes=50, max_depth=3 ..............\n",
      "[CV]  min_samples_leaf=9, max_leaf_nodes=50, max_depth=3, total=   0.0s\n",
      "[CV] min_samples_leaf=9, max_leaf_nodes=50, max_depth=3 ..............\n",
      "[CV]  min_samples_leaf=9, max_leaf_nodes=50, max_depth=3, total=   0.0s\n",
      "[CV] min_samples_leaf=9, max_leaf_nodes=50, max_depth=3 ..............\n",
      "[CV]  min_samples_leaf=9, max_leaf_nodes=50, max_depth=3, total=   0.0s\n",
      "[CV] min_samples_leaf=9, max_leaf_nodes=50, max_depth=3 ..............\n",
      "[CV]  min_samples_leaf=9, max_leaf_nodes=50, max_depth=3, total=   0.0s\n",
      "[CV] min_samples_leaf=9, max_leaf_nodes=50, max_depth=3 ..............\n",
      "[CV]  min_samples_leaf=9, max_leaf_nodes=50, max_depth=3, total=   0.0s\n",
      "[CV] min_samples_leaf=1, max_leaf_nodes=None, max_depth=11 ...........\n",
      "[CV]  min_samples_leaf=1, max_leaf_nodes=None, max_depth=11, total=   0.0s\n",
      "[CV] min_samples_leaf=1, max_leaf_nodes=None, max_depth=11 ...........\n",
      "[CV]  min_samples_leaf=1, max_leaf_nodes=None, max_depth=11, total=   0.0s\n",
      "[CV] min_samples_leaf=1, max_leaf_nodes=None, max_depth=11 ...........\n",
      "[CV]  min_samples_leaf=1, max_leaf_nodes=None, max_depth=11, total=   0.0s\n",
      "[CV] min_samples_leaf=1, max_leaf_nodes=None, max_depth=11 ...........\n",
      "[CV]  min_samples_leaf=1, max_leaf_nodes=None, max_depth=11, total=   0.0s\n",
      "[CV] min_samples_leaf=1, max_leaf_nodes=None, max_depth=11 ...........\n",
      "[CV]  min_samples_leaf=1, max_leaf_nodes=None, max_depth=11, total=   0.0s\n",
      "[CV] min_samples_leaf=7, max_leaf_nodes=90, max_depth=7 ..............\n",
      "[CV]  min_samples_leaf=7, max_leaf_nodes=90, max_depth=7, total=   0.0s\n",
      "[CV] min_samples_leaf=7, max_leaf_nodes=90, max_depth=7 ..............\n",
      "[CV]  min_samples_leaf=7, max_leaf_nodes=90, max_depth=7, total=   0.0s\n",
      "[CV] min_samples_leaf=7, max_leaf_nodes=90, max_depth=7 ..............\n",
      "[CV]  min_samples_leaf=7, max_leaf_nodes=90, max_depth=7, total=   0.0s\n",
      "[CV] min_samples_leaf=7, max_leaf_nodes=90, max_depth=7 ..............\n",
      "[CV]  min_samples_leaf=7, max_leaf_nodes=90, max_depth=7, total=   0.0s\n",
      "[CV] min_samples_leaf=7, max_leaf_nodes=90, max_depth=7 ..............\n",
      "[CV]  min_samples_leaf=7, max_leaf_nodes=90, max_depth=7, total=   0.0s\n",
      "[CV] min_samples_leaf=6, max_leaf_nodes=50, max_depth=3 ..............\n",
      "[CV]  min_samples_leaf=6, max_leaf_nodes=50, max_depth=3, total=   0.0s\n",
      "[CV] min_samples_leaf=6, max_leaf_nodes=50, max_depth=3 ..............\n",
      "[CV]  min_samples_leaf=6, max_leaf_nodes=50, max_depth=3, total=   0.0s\n",
      "[CV] min_samples_leaf=6, max_leaf_nodes=50, max_depth=3 ..............\n",
      "[CV]  min_samples_leaf=6, max_leaf_nodes=50, max_depth=3, total=   0.0s\n",
      "[CV] min_samples_leaf=6, max_leaf_nodes=50, max_depth=3 ..............\n",
      "[CV]  min_samples_leaf=6, max_leaf_nodes=50, max_depth=3, total=   0.0s\n",
      "[CV] min_samples_leaf=6, max_leaf_nodes=50, max_depth=3 ..............\n",
      "[CV]  min_samples_leaf=6, max_leaf_nodes=50, max_depth=3, total=   0.0s\n",
      "[CV] min_samples_leaf=2, max_leaf_nodes=20, max_depth=7 ..............\n",
      "[CV]  min_samples_leaf=2, max_leaf_nodes=20, max_depth=7, total=   0.0s\n",
      "[CV] min_samples_leaf=2, max_leaf_nodes=20, max_depth=7 ..............\n",
      "[CV]  min_samples_leaf=2, max_leaf_nodes=20, max_depth=7, total=   0.0s\n",
      "[CV] min_samples_leaf=2, max_leaf_nodes=20, max_depth=7 ..............\n",
      "[CV]  min_samples_leaf=2, max_leaf_nodes=20, max_depth=7, total=   0.0s\n",
      "[CV] min_samples_leaf=2, max_leaf_nodes=20, max_depth=7 ..............\n",
      "[CV]  min_samples_leaf=2, max_leaf_nodes=20, max_depth=7, total=   0.0s\n",
      "[CV] min_samples_leaf=2, max_leaf_nodes=20, max_depth=7 ..............\n",
      "[CV]  min_samples_leaf=2, max_leaf_nodes=20, max_depth=7, total=   0.0s\n",
      "[CV] min_samples_leaf=3, max_leaf_nodes=10, max_depth=5 ..............\n",
      "[CV]  min_samples_leaf=3, max_leaf_nodes=10, max_depth=5, total=   0.0s\n",
      "[CV] min_samples_leaf=3, max_leaf_nodes=10, max_depth=5 ..............\n",
      "[CV]  min_samples_leaf=3, max_leaf_nodes=10, max_depth=5, total=   0.0s\n",
      "[CV] min_samples_leaf=3, max_leaf_nodes=10, max_depth=5 ..............\n",
      "[CV]  min_samples_leaf=3, max_leaf_nodes=10, max_depth=5, total=   0.0s\n",
      "[CV] min_samples_leaf=3, max_leaf_nodes=10, max_depth=5 ..............\n",
      "[CV]  min_samples_leaf=3, max_leaf_nodes=10, max_depth=5, total=   0.0s\n",
      "[CV] min_samples_leaf=3, max_leaf_nodes=10, max_depth=5 ..............\n",
      "[CV]  min_samples_leaf=3, max_leaf_nodes=10, max_depth=5, total=   0.0s\n",
      "[CV] min_samples_leaf=5, max_leaf_nodes=30, max_depth=5 ..............\n",
      "[CV]  min_samples_leaf=5, max_leaf_nodes=30, max_depth=5, total=   0.0s\n",
      "[CV] min_samples_leaf=5, max_leaf_nodes=30, max_depth=5 ..............\n",
      "[CV]  min_samples_leaf=5, max_leaf_nodes=30, max_depth=5, total=   0.0s\n",
      "[CV] min_samples_leaf=5, max_leaf_nodes=30, max_depth=5 ..............\n",
      "[CV]  min_samples_leaf=5, max_leaf_nodes=30, max_depth=5, total=   0.0s\n",
      "[CV] min_samples_leaf=5, max_leaf_nodes=30, max_depth=5 ..............\n",
      "[CV]  min_samples_leaf=5, max_leaf_nodes=30, max_depth=5, total=   0.0s\n",
      "[CV] min_samples_leaf=5, max_leaf_nodes=30, max_depth=5 ..............\n",
      "[CV]  min_samples_leaf=5, max_leaf_nodes=30, max_depth=5, total=   0.0s\n",
      "[CV] min_samples_leaf=10, max_leaf_nodes=80, max_depth=5 .............\n"
     ]
    },
    {
     "name": "stderr",
     "output_type": "stream",
     "text": [
      "[Parallel(n_jobs=1)]: Using backend SequentialBackend with 1 concurrent workers.\n",
      "[Parallel(n_jobs=1)]: Done   1 out of   1 | elapsed:    0.0s remaining:    0.0s\n"
     ]
    },
    {
     "name": "stdout",
     "output_type": "stream",
     "text": [
      "[CV]  min_samples_leaf=10, max_leaf_nodes=80, max_depth=5, total=   0.0s\n",
      "[CV] min_samples_leaf=10, max_leaf_nodes=80, max_depth=5 .............\n",
      "[CV]  min_samples_leaf=10, max_leaf_nodes=80, max_depth=5, total=   0.0s\n",
      "[CV] min_samples_leaf=10, max_leaf_nodes=80, max_depth=5 .............\n",
      "[CV]  min_samples_leaf=10, max_leaf_nodes=80, max_depth=5, total=   0.0s\n",
      "[CV] min_samples_leaf=10, max_leaf_nodes=80, max_depth=5 .............\n",
      "[CV]  min_samples_leaf=10, max_leaf_nodes=80, max_depth=5, total=   0.0s\n",
      "[CV] min_samples_leaf=10, max_leaf_nodes=80, max_depth=5 .............\n",
      "[CV]  min_samples_leaf=10, max_leaf_nodes=80, max_depth=5, total=   0.0s\n",
      "[CV] min_samples_leaf=1, max_leaf_nodes=None, max_depth=7 ............\n",
      "[CV]  min_samples_leaf=1, max_leaf_nodes=None, max_depth=7, total=   0.0s\n",
      "[CV] min_samples_leaf=1, max_leaf_nodes=None, max_depth=7 ............\n",
      "[CV]  min_samples_leaf=1, max_leaf_nodes=None, max_depth=7, total=   0.0s\n",
      "[CV] min_samples_leaf=1, max_leaf_nodes=None, max_depth=7 ............\n",
      "[CV]  min_samples_leaf=1, max_leaf_nodes=None, max_depth=7, total=   0.0s\n",
      "[CV] min_samples_leaf=1, max_leaf_nodes=None, max_depth=7 ............\n",
      "[CV]  min_samples_leaf=1, max_leaf_nodes=None, max_depth=7, total=   0.0s\n",
      "[CV] min_samples_leaf=1, max_leaf_nodes=None, max_depth=7 ............\n",
      "[CV]  min_samples_leaf=1, max_leaf_nodes=None, max_depth=7, total=   0.0s\n",
      "[CV] min_samples_leaf=7, max_leaf_nodes=50, max_depth=7 ..............\n",
      "[CV]  min_samples_leaf=7, max_leaf_nodes=50, max_depth=7, total=   0.0s\n",
      "[CV] min_samples_leaf=7, max_leaf_nodes=50, max_depth=7 ..............\n",
      "[CV]  min_samples_leaf=7, max_leaf_nodes=50, max_depth=7, total=   0.0s\n",
      "[CV] min_samples_leaf=7, max_leaf_nodes=50, max_depth=7 ..............\n",
      "[CV]  min_samples_leaf=7, max_leaf_nodes=50, max_depth=7, total=   0.0s\n",
      "[CV] min_samples_leaf=7, max_leaf_nodes=50, max_depth=7 ..............\n",
      "[CV]  min_samples_leaf=7, max_leaf_nodes=50, max_depth=7, total=   0.0s\n",
      "[CV] min_samples_leaf=7, max_leaf_nodes=50, max_depth=7 ..............\n",
      "[CV]  min_samples_leaf=7, max_leaf_nodes=50, max_depth=7, total=   0.0s\n"
     ]
    },
    {
     "name": "stderr",
     "output_type": "stream",
     "text": [
      "[Parallel(n_jobs=1)]: Done  50 out of  50 | elapsed:    0.2s finished\n"
     ]
    },
    {
     "data": {
      "text/plain": [
       "RandomizedSearchCV(cv=5, error_score=nan,\n",
       "                   estimator=DecisionTreeRegressor(ccp_alpha=0.0,\n",
       "                                                   criterion='mse',\n",
       "                                                   max_depth=None,\n",
       "                                                   max_features=None,\n",
       "                                                   max_leaf_nodes=None,\n",
       "                                                   min_impurity_decrease=0.0,\n",
       "                                                   min_impurity_split=None,\n",
       "                                                   min_samples_leaf=1,\n",
       "                                                   min_samples_split=2,\n",
       "                                                   min_weight_fraction_leaf=0.0,\n",
       "                                                   presort='deprecated',\n",
       "                                                   random_state=None,\n",
       "                                                   splitter='best'),\n",
       "                   iid='deprecated', n_iter=10, n_jobs=1,\n",
       "                   param_distributions={'max_depth': [1, 3, 5, 7, 9, 11, 12],\n",
       "                                        'max_leaf_nodes': [None, 10, 20, 30, 40,\n",
       "                                                           50, 60, 70, 80, 90],\n",
       "                                        'min_samples_leaf': [1, 2, 3, 4, 5, 6,\n",
       "                                                             7, 8, 9, 10]},\n",
       "                   pre_dispatch='2*n_jobs', random_state=42, refit=True,\n",
       "                   return_train_score=False, scoring='neg_mean_squared_error',\n",
       "                   verbose=2)"
      ]
     },
     "execution_count": 164,
     "metadata": {},
     "output_type": "execute_result"
    }
   ],
   "source": [
    "params={\"max_depth\" : [1,3,5,7,9,11,12],\n",
    "        \"min_samples_leaf\":[1,2,3,4,5,6,7,8,9,10],\n",
    "        \"max_leaf_nodes\":[None,10,20,30,40,50,60,70,80,90] }\n",
    "\n",
    "RS_CV = RandomizedSearchCV(estimator = dtr, param_distributions = params,scoring='neg_mean_squared_error', n_iter = 10, cv = 5, verbose=2, random_state=42, n_jobs = 1)\n",
    "RS_CV.fit(X_tr, y_train)"
   ]
  },
  {
   "cell_type": "code",
   "execution_count": 165,
   "metadata": {},
   "outputs": [],
   "source": [
    "decision_tree_r_model = RS_CV.best_estimator_\n",
    "predicted = decision_tree_r_model.predict(X_te)"
   ]
  },
  {
   "cell_type": "code",
   "execution_count": 166,
   "metadata": {},
   "outputs": [
    {
     "data": {
      "text/plain": [
       "2.515361480927437"
      ]
     },
     "execution_count": 166,
     "metadata": {},
     "output_type": "execute_result"
    }
   ],
   "source": [
    "mean_squared_error(y_test,predicted)"
   ]
  },
  {
   "cell_type": "code",
   "execution_count": 167,
   "metadata": {},
   "outputs": [
    {
     "data": {
      "text/plain": [
       "<matplotlib.axes._subplots.AxesSubplot at 0x21d8b2d5808>"
      ]
     },
     "execution_count": 167,
     "metadata": {},
     "output_type": "execute_result"
    },
    {
     "data": {
      "image/png": "[encoded data removed]",
      "text/plain": [
       "<Figure size 432x288 with 1 Axes>"
      ]
     },
     "metadata": {
      "needs_background": "light"
     },
     "output_type": "display_data"
    }
   ],
   "source": [
    "sns.distplot(abs(y_test-predicted))"
   ]
  },
  {
   "cell_type": "code",
   "execution_count": 168,
   "metadata": {},
   "outputs": [
    {
     "data": {
      "image/png": "[encoded data removed]",
      "text/plain": [
       "<Figure size 432x288 with 1 Axes>"
      ]
     },
     "metadata": {
      "needs_background": "light"
     },
     "output_type": "display_data"
    }
   ],
   "source": [
    "sns.scatterplot(y_test.reshape(-1),predicted.reshape(-1))\n",
    "plt.plot(line,color = 'r')\n",
    "plt.show()"
   ]
  },
  {
   "cell_type": "code",
   "execution_count": null,
   "metadata": {},
   "outputs": [],
   "source": []
  },
  {
   "cell_type": "code",
   "execution_count": 169,
   "metadata": {},
   "outputs": [
    {
     "name": "stdout",
     "output_type": "stream",
     "text": [
      "Fitting 5 folds for each of 10 candidates, totalling 50 fits\n",
      "[CV] min_samples_split=100, min_samples_leaf=1, max_features=sqrt, max_depth=5 \n",
      "[CV]  min_samples_split=100, min_samples_leaf=1, max_features=sqrt, max_depth=5, total=   0.2s"
     ]
    },
    {
     "name": "stderr",
     "output_type": "stream",
     "text": [
      "[Parallel(n_jobs=1)]: Using backend SequentialBackend with 1 concurrent workers.\n"
     ]
    },
    {
     "name": "stdout",
     "output_type": "stream",
     "text": [
      "\n",
      "[CV] min_samples_split=100, min_samples_leaf=1, max_features=sqrt, max_depth=5 \n",
      "[CV]  min_samples_split=100, min_samples_leaf=1, max_features=sqrt, max_depth=5, total=   0.4s\n",
      "[CV] min_samples_split=100, min_samples_leaf=1, max_features=sqrt, max_depth=5 \n",
      "[CV]  min_samples_split=100, min_samples_leaf=1, max_features=sqrt, max_depth=5, total=   0.4s\n",
      "[CV] min_samples_split=100, min_samples_leaf=1, max_features=sqrt, max_depth=5 \n",
      "[CV]  min_samples_split=100, min_samples_leaf=1, max_features=sqrt, max_depth=5, total=   0.3s\n",
      "[CV] min_samples_split=100, min_samples_leaf=1, max_features=sqrt, max_depth=5 \n",
      "[CV]  min_samples_split=100, min_samples_leaf=1, max_features=sqrt, max_depth=5, total=   0.3s\n",
      "[CV] min_samples_split=5, min_samples_leaf=2, max_features=auto, max_depth=5 \n",
      "[CV]  min_samples_split=5, min_samples_leaf=2, max_features=auto, max_depth=5, total=   0.3s\n",
      "[CV] min_samples_split=5, min_samples_leaf=2, max_features=auto, max_depth=5 \n",
      "[CV]  min_samples_split=5, min_samples_leaf=2, max_features=auto, max_depth=5, total=   0.3s\n",
      "[CV] min_samples_split=5, min_samples_leaf=2, max_features=auto, max_depth=5 \n",
      "[CV]  min_samples_split=5, min_samples_leaf=2, max_features=auto, max_depth=5, total=   0.4s\n",
      "[CV] min_samples_split=5, min_samples_leaf=2, max_features=auto, max_depth=5 \n",
      "[CV]  min_samples_split=5, min_samples_leaf=2, max_features=auto, max_depth=5, total=   0.3s\n",
      "[CV] min_samples_split=5, min_samples_leaf=2, max_features=auto, max_depth=5 \n",
      "[CV]  min_samples_split=5, min_samples_leaf=2, max_features=auto, max_depth=5, total=   0.3s\n",
      "[CV] min_samples_split=15, min_samples_leaf=5, max_features=auto, max_depth=15 \n",
      "[CV]  min_samples_split=15, min_samples_leaf=5, max_features=auto, max_depth=15, total=   0.3s\n",
      "[CV] min_samples_split=15, min_samples_leaf=5, max_features=auto, max_depth=15 \n",
      "[CV]  min_samples_split=15, min_samples_leaf=5, max_features=auto, max_depth=15, total=   0.3s\n",
      "[CV] min_samples_split=15, min_samples_leaf=5, max_features=auto, max_depth=15 \n",
      "[CV]  min_samples_split=15, min_samples_leaf=5, max_features=auto, max_depth=15, total=   0.3s\n",
      "[CV] min_samples_split=15, min_samples_leaf=5, max_features=auto, max_depth=15 \n",
      "[CV]  min_samples_split=15, min_samples_leaf=5, max_features=auto, max_depth=15, total=   0.3s\n",
      "[CV] min_samples_split=15, min_samples_leaf=5, max_features=auto, max_depth=15 \n",
      "[CV]  min_samples_split=15, min_samples_leaf=5, max_features=auto, max_depth=15, total=   0.3s\n",
      "[CV] min_samples_split=100, min_samples_leaf=2, max_features=sqrt, max_depth=15 \n",
      "[CV]  min_samples_split=100, min_samples_leaf=2, max_features=sqrt, max_depth=15, total=   0.3s\n",
      "[CV] min_samples_split=100, min_samples_leaf=2, max_features=sqrt, max_depth=15 \n",
      "[CV]  min_samples_split=100, min_samples_leaf=2, max_features=sqrt, max_depth=15, total=   0.3s\n",
      "[CV] min_samples_split=100, min_samples_leaf=2, max_features=sqrt, max_depth=15 \n",
      "[CV]  min_samples_split=100, min_samples_leaf=2, max_features=sqrt, max_depth=15, total=   0.3s\n",
      "[CV] min_samples_split=100, min_samples_leaf=2, max_features=sqrt, max_depth=15 \n",
      "[CV]  min_samples_split=100, min_samples_leaf=2, max_features=sqrt, max_depth=15, total=   0.3s\n",
      "[CV] min_samples_split=100, min_samples_leaf=2, max_features=sqrt, max_depth=15 \n",
      "[CV]  min_samples_split=100, min_samples_leaf=2, max_features=sqrt, max_depth=15, total=   0.3s\n",
      "[CV] min_samples_split=100, min_samples_leaf=1, max_features=sqrt, max_depth=15 \n",
      "[CV]  min_samples_split=100, min_samples_leaf=1, max_features=sqrt, max_depth=15, total=   0.4s\n",
      "[CV] min_samples_split=100, min_samples_leaf=1, max_features=sqrt, max_depth=15 \n",
      "[CV]  min_samples_split=100, min_samples_leaf=1, max_features=sqrt, max_depth=15, total=   0.4s\n",
      "[CV] min_samples_split=100, min_samples_leaf=1, max_features=sqrt, max_depth=15 \n",
      "[CV]  min_samples_split=100, min_samples_leaf=1, max_features=sqrt, max_depth=15, total=   0.3s\n",
      "[CV] min_samples_split=100, min_samples_leaf=1, max_features=sqrt, max_depth=15 \n",
      "[CV]  min_samples_split=100, min_samples_leaf=1, max_features=sqrt, max_depth=15, total=   0.3s\n",
      "[CV] min_samples_split=100, min_samples_leaf=1, max_features=sqrt, max_depth=15 \n",
      "[CV]  min_samples_split=100, min_samples_leaf=1, max_features=sqrt, max_depth=15, total=   0.3s\n",
      "[CV] min_samples_split=10, min_samples_leaf=5, max_features=auto, max_depth=25 \n",
      "[CV]  min_samples_split=10, min_samples_leaf=5, max_features=auto, max_depth=25, total=   0.3s\n",
      "[CV] min_samples_split=10, min_samples_leaf=5, max_features=auto, max_depth=25 \n",
      "[CV]  min_samples_split=10, min_samples_leaf=5, max_features=auto, max_depth=25, total=   0.3s\n",
      "[CV] min_samples_split=10, min_samples_leaf=5, max_features=auto, max_depth=25 \n",
      "[CV]  min_samples_split=10, min_samples_leaf=5, max_features=auto, max_depth=25, total=   0.3s\n",
      "[CV] min_samples_split=10, min_samples_leaf=5, max_features=auto, max_depth=25 \n",
      "[CV]  min_samples_split=10, min_samples_leaf=5, max_features=auto, max_depth=25, total=   0.3s\n",
      "[CV] min_samples_split=10, min_samples_leaf=5, max_features=auto, max_depth=25 \n",
      "[CV]  min_samples_split=10, min_samples_leaf=5, max_features=auto, max_depth=25, total=   0.3s\n",
      "[CV] min_samples_split=15, min_samples_leaf=5, max_features=sqrt, max_depth=30 \n",
      "[CV]  min_samples_split=15, min_samples_leaf=5, max_features=sqrt, max_depth=30, total=   0.3s\n",
      "[CV] min_samples_split=15, min_samples_leaf=5, max_features=sqrt, max_depth=30 \n",
      "[CV]  min_samples_split=15, min_samples_leaf=5, max_features=sqrt, max_depth=30, total=   0.3s\n",
      "[CV] min_samples_split=15, min_samples_leaf=5, max_features=sqrt, max_depth=30 \n",
      "[CV]  min_samples_split=15, min_samples_leaf=5, max_features=sqrt, max_depth=30, total=   0.3s\n",
      "[CV] min_samples_split=15, min_samples_leaf=5, max_features=sqrt, max_depth=30 \n",
      "[CV]  min_samples_split=15, min_samples_leaf=5, max_features=sqrt, max_depth=30, total=   0.3s\n",
      "[CV] min_samples_split=15, min_samples_leaf=5, max_features=sqrt, max_depth=30 \n",
      "[CV]  min_samples_split=15, min_samples_leaf=5, max_features=sqrt, max_depth=30, total=   0.3s\n",
      "[CV] min_samples_split=5, min_samples_leaf=2, max_features=auto, max_depth=15 \n",
      "[CV]  min_samples_split=5, min_samples_leaf=2, max_features=auto, max_depth=15, total=   0.4s\n",
      "[CV] min_samples_split=5, min_samples_leaf=2, max_features=auto, max_depth=15 \n",
      "[CV]  min_samples_split=5, min_samples_leaf=2, max_features=auto, max_depth=15, total=   0.4s\n",
      "[CV] min_samples_split=5, min_samples_leaf=2, max_features=auto, max_depth=15 \n",
      "[CV]  min_samples_split=5, min_samples_leaf=2, max_features=auto, max_depth=15, total=   0.4s\n",
      "[CV] min_samples_split=5, min_samples_leaf=2, max_features=auto, max_depth=15 \n",
      "[CV]  min_samples_split=5, min_samples_leaf=2, max_features=auto, max_depth=15, total=   0.5s\n",
      "[CV] min_samples_split=5, min_samples_leaf=2, max_features=auto, max_depth=15 \n",
      "[CV]  min_samples_split=5, min_samples_leaf=2, max_features=auto, max_depth=15, total=   0.5s\n",
      "[CV] min_samples_split=100, min_samples_leaf=2, max_features=auto, max_depth=5 \n",
      "[CV]  min_samples_split=100, min_samples_leaf=2, max_features=auto, max_depth=5, total=   0.3s\n",
      "[CV] min_samples_split=100, min_samples_leaf=2, max_features=auto, max_depth=5 \n",
      "[CV]  min_samples_split=100, min_samples_leaf=2, max_features=auto, max_depth=5, total=   0.3s\n",
      "[CV] min_samples_split=100, min_samples_leaf=2, max_features=auto, max_depth=5 \n",
      "[CV]  min_samples_split=100, min_samples_leaf=2, max_features=auto, max_depth=5, total=   0.3s\n",
      "[CV] min_samples_split=100, min_samples_leaf=2, max_features=auto, max_depth=5 \n",
      "[CV]  min_samples_split=100, min_samples_leaf=2, max_features=auto, max_depth=5, total=   0.3s\n",
      "[CV] min_samples_split=100, min_samples_leaf=2, max_features=auto, max_depth=5 \n",
      "[CV]  min_samples_split=100, min_samples_leaf=2, max_features=auto, max_depth=5, total=   0.3s\n",
      "[CV] min_samples_split=15, min_samples_leaf=1, max_features=sqrt, max_depth=20 \n",
      "[CV]  min_samples_split=15, min_samples_leaf=1, max_features=sqrt, max_depth=20, total=   0.3s\n",
      "[CV] min_samples_split=15, min_samples_leaf=1, max_features=sqrt, max_depth=20 \n",
      "[CV]  min_samples_split=15, min_samples_leaf=1, max_features=sqrt, max_depth=20, total=   0.3s\n",
      "[CV] min_samples_split=15, min_samples_leaf=1, max_features=sqrt, max_depth=20 \n",
      "[CV]  min_samples_split=15, min_samples_leaf=1, max_features=sqrt, max_depth=20, total=   0.3s\n",
      "[CV] min_samples_split=15, min_samples_leaf=1, max_features=sqrt, max_depth=20 \n"
     ]
    },
    {
     "name": "stdout",
     "output_type": "stream",
     "text": [
      "[CV]  min_samples_split=15, min_samples_leaf=1, max_features=sqrt, max_depth=20, total=   0.3s\n",
      "[CV] min_samples_split=15, min_samples_leaf=1, max_features=sqrt, max_depth=20 \n",
      "[CV]  min_samples_split=15, min_samples_leaf=1, max_features=sqrt, max_depth=20, total=   0.3s\n"
     ]
    },
    {
     "name": "stderr",
     "output_type": "stream",
     "text": [
      "[Parallel(n_jobs=1)]: Done   1 out of   1 | elapsed:    0.1s remaining:    0.0s\n",
      "[Parallel(n_jobs=1)]: Done  50 out of  50 | elapsed:   15.8s finished\n"
     ]
    },
    {
     "data": {
      "text/plain": [
       "RandomizedSearchCV(cv=5, error_score=nan,\n",
       "                   estimator=RandomForestRegressor(bootstrap=True,\n",
       "                                                   ccp_alpha=0.0,\n",
       "                                                   criterion='mse',\n",
       "                                                   max_depth=None,\n",
       "                                                   max_features='auto',\n",
       "                                                   max_leaf_nodes=None,\n",
       "                                                   max_samples=None,\n",
       "                                                   min_impurity_decrease=0.0,\n",
       "                                                   min_impurity_split=None,\n",
       "                                                   min_samples_leaf=1,\n",
       "                                                   min_samples_split=2,\n",
       "                                                   min_weight_fraction_leaf=0.0,\n",
       "                                                   n_estimators=100,\n",
       "                                                   n_jobs=None, oob_score=False,\n",
       "                                                   random_state=None, verbose=0,\n",
       "                                                   warm_start=False),\n",
       "                   iid='deprecated', n_iter=10, n_jobs=1,\n",
       "                   param_distributions={'max_depth': [5, 10, 15, 20, 25, 30],\n",
       "                                        'max_features': ['auto', 'sqrt'],\n",
       "                                        'min_samples_leaf': [1, 2, 5, 10],\n",
       "                                        'min_samples_split': [2, 5, 10, 15,\n",
       "                                                              100]},\n",
       "                   pre_dispatch='2*n_jobs', random_state=42, refit=True,\n",
       "                   return_train_score=False, scoring='neg_mean_squared_error',\n",
       "                   verbose=2)"
      ]
     },
     "execution_count": 169,
     "metadata": {},
     "output_type": "execute_result"
    }
   ],
   "source": [
    "rf = RandomForestRegressor()\n",
    "\n",
    "# Number of features to consider at every split\n",
    "max_features = ['auto', 'sqrt']\n",
    "# max_depth depth of tree to predict\n",
    "max_depth = [i for i in range(5,31,5)]\n",
    "\n",
    "# Minimum number of samples required to split a node\n",
    "min_samples_split = [2, 5, 10, 15, 100]\n",
    "# Minimum number of samples required at each leaf node\n",
    "min_samples_leaf = [1, 2, 5, 10]\n",
    "\n",
    "params = {\n",
    "    'max_features': max_features,'max_depth': max_depth,'min_samples_split': min_samples_split,'min_samples_leaf': min_samples_leaf\n",
    "}\n",
    "\n",
    "RS_CV = RandomizedSearchCV(estimator = rf, param_distributions = params,scoring='neg_mean_squared_error', n_iter = 10, cv = 5, verbose=2, random_state=42, n_jobs = 1)\n",
    "RS_CV.fit(X_tr, y_train)"
   ]
  },
  {
   "cell_type": "code",
   "execution_count": 80,
   "metadata": {},
   "outputs": [],
   "source": [
    "RandomForest_r_model = RS_CV.best_estimator_\n",
    "predicted = RandomForest_r_model.predict(X_te)"
   ]
  },
  {
   "cell_type": "code",
   "execution_count": 81,
   "metadata": {},
   "outputs": [
    {
     "data": {
      "text/plain": [
       "1.3991214037984099"
      ]
     },
     "execution_count": 81,
     "metadata": {},
     "output_type": "execute_result"
    }
   ],
   "source": [
    "mean_squared_error(y_test,predicted)"
   ]
  },
  {
   "cell_type": "code",
   "execution_count": 82,
   "metadata": {},
   "outputs": [
    {
     "data": {
      "text/plain": [
       "<matplotlib.axes._subplots.AxesSubplot at 0x21d880f40c8>"
      ]
     },
     "execution_count": 82,
     "metadata": {},
     "output_type": "execute_result"
    },
    {
     "data": {
      "image/png": "[encoded data removed]",
      "text/plain": [
       "<Figure size 432x288 with 1 Axes>"
      ]
     },
     "metadata": {
      "needs_background": "light"
     },
     "output_type": "display_data"
    }
   ],
   "source": [
    "sns.distplot(abs(y_test-predicted))"
   ]
  },
  {
   "cell_type": "code",
   "execution_count": 83,
   "metadata": {},
   "outputs": [
    {
     "data": {
      "image/png": "[encoded data removed]",
      "text/plain": [
       "<Figure size 432x288 with 1 Axes>"
      ]
     },
     "metadata": {
      "needs_background": "light"
     },
     "output_type": "display_data"
    }
   ],
   "source": [
    "sns.scatterplot(y_test.reshape(-1),predicted)\n",
    "plt.plot(line,color = 'r')\n",
    "plt.show()"
   ]
  },
  {
   "cell_type": "code",
   "execution_count": null,
   "metadata": {},
   "outputs": [],
   "source": []
  },
  {
   "cell_type": "code",
   "execution_count": null,
   "metadata": {},
   "outputs": [],
   "source": []
  },
  {
   "cell_type": "code",
   "execution_count": null,
   "metadata": {},
   "outputs": [],
   "source": []
  },
  {
   "cell_type": "code",
   "execution_count": 84,
   "metadata": {},
   "outputs": [
    {
     "name": "stdout",
     "output_type": "stream",
     "text": [
      "Fitting 5 folds for each of 10 candidates, totalling 50 fits\n",
      "[CV] min_samples_leaf=9, max_leaf_nodes=50, max_depth=3 ..............\n"
     ]
    },
    {
     "name": "stderr",
     "output_type": "stream",
     "text": [
      "[Parallel(n_jobs=1)]: Using backend SequentialBackend with 1 concurrent workers.\n"
     ]
    },
    {
     "name": "stdout",
     "output_type": "stream",
     "text": [
      "[CV]  min_samples_leaf=9, max_leaf_nodes=50, max_depth=3, total=   0.2s\n",
      "[CV] min_samples_leaf=9, max_leaf_nodes=50, max_depth=3 ..............\n"
     ]
    },
    {
     "name": "stderr",
     "output_type": "stream",
     "text": [
      "[Parallel(n_jobs=1)]: Done   1 out of   1 | elapsed:    0.1s remaining:    0.0s\n"
     ]
    },
    {
     "name": "stdout",
     "output_type": "stream",
     "text": [
      "[CV]  min_samples_leaf=9, max_leaf_nodes=50, max_depth=3, total=   0.3s\n",
      "[CV] min_samples_leaf=9, max_leaf_nodes=50, max_depth=3 ..............\n",
      "[CV]  min_samples_leaf=9, max_leaf_nodes=50, max_depth=3, total=   0.2s\n",
      "[CV] min_samples_leaf=9, max_leaf_nodes=50, max_depth=3 ..............\n",
      "[CV]  min_samples_leaf=9, max_leaf_nodes=50, max_depth=3, total=   0.2s\n",
      "[CV] min_samples_leaf=9, max_leaf_nodes=50, max_depth=3 ..............\n",
      "[CV]  min_samples_leaf=9, max_leaf_nodes=50, max_depth=3, total=   0.2s\n",
      "[CV] min_samples_leaf=1, max_leaf_nodes=None, max_depth=11 ...........\n",
      "[CV]  min_samples_leaf=1, max_leaf_nodes=None, max_depth=11, total=   0.4s\n",
      "[CV] min_samples_leaf=1, max_leaf_nodes=None, max_depth=11 ...........\n",
      "[CV]  min_samples_leaf=1, max_leaf_nodes=None, max_depth=11, total=   0.4s\n",
      "[CV] min_samples_leaf=1, max_leaf_nodes=None, max_depth=11 ...........\n",
      "[CV]  min_samples_leaf=1, max_leaf_nodes=None, max_depth=11, total=   0.4s\n",
      "[CV] min_samples_leaf=1, max_leaf_nodes=None, max_depth=11 ...........\n",
      "[CV]  min_samples_leaf=1, max_leaf_nodes=None, max_depth=11, total=   0.4s\n",
      "[CV] min_samples_leaf=1, max_leaf_nodes=None, max_depth=11 ...........\n",
      "[CV]  min_samples_leaf=1, max_leaf_nodes=None, max_depth=11, total=   0.4s\n",
      "[CV] min_samples_leaf=7, max_leaf_nodes=90, max_depth=7 ..............\n",
      "[CV]  min_samples_leaf=7, max_leaf_nodes=90, max_depth=7, total=   0.3s\n",
      "[CV] min_samples_leaf=7, max_leaf_nodes=90, max_depth=7 ..............\n",
      "[CV]  min_samples_leaf=7, max_leaf_nodes=90, max_depth=7, total=   0.3s\n",
      "[CV] min_samples_leaf=7, max_leaf_nodes=90, max_depth=7 ..............\n",
      "[CV]  min_samples_leaf=7, max_leaf_nodes=90, max_depth=7, total=   0.3s\n",
      "[CV] min_samples_leaf=7, max_leaf_nodes=90, max_depth=7 ..............\n",
      "[CV]  min_samples_leaf=7, max_leaf_nodes=90, max_depth=7, total=   0.3s\n",
      "[CV] min_samples_leaf=7, max_leaf_nodes=90, max_depth=7 ..............\n",
      "[CV]  min_samples_leaf=7, max_leaf_nodes=90, max_depth=7, total=   0.3s\n",
      "[CV] min_samples_leaf=6, max_leaf_nodes=50, max_depth=3 ..............\n",
      "[CV]  min_samples_leaf=6, max_leaf_nodes=50, max_depth=3, total=   0.2s\n",
      "[CV] min_samples_leaf=6, max_leaf_nodes=50, max_depth=3 ..............\n",
      "[CV]  min_samples_leaf=6, max_leaf_nodes=50, max_depth=3, total=   0.2s\n",
      "[CV] min_samples_leaf=6, max_leaf_nodes=50, max_depth=3 ..............\n",
      "[CV]  min_samples_leaf=6, max_leaf_nodes=50, max_depth=3, total=   0.2s\n",
      "[CV] min_samples_leaf=6, max_leaf_nodes=50, max_depth=3 ..............\n",
      "[CV]  min_samples_leaf=6, max_leaf_nodes=50, max_depth=3, total=   0.2s\n",
      "[CV] min_samples_leaf=6, max_leaf_nodes=50, max_depth=3 ..............\n",
      "[CV]  min_samples_leaf=6, max_leaf_nodes=50, max_depth=3, total=   0.3s\n",
      "[CV] min_samples_leaf=2, max_leaf_nodes=20, max_depth=7 ..............\n",
      "[CV]  min_samples_leaf=2, max_leaf_nodes=20, max_depth=7, total=   0.5s\n",
      "[CV] min_samples_leaf=2, max_leaf_nodes=20, max_depth=7 ..............\n",
      "[CV]  min_samples_leaf=2, max_leaf_nodes=20, max_depth=7, total=   0.4s\n",
      "[CV] min_samples_leaf=2, max_leaf_nodes=20, max_depth=7 ..............\n",
      "[CV]  min_samples_leaf=2, max_leaf_nodes=20, max_depth=7, total=   0.3s\n",
      "[CV] min_samples_leaf=2, max_leaf_nodes=20, max_depth=7 ..............\n",
      "[CV]  min_samples_leaf=2, max_leaf_nodes=20, max_depth=7, total=   0.3s\n",
      "[CV] min_samples_leaf=2, max_leaf_nodes=20, max_depth=7 ..............\n",
      "[CV]  min_samples_leaf=2, max_leaf_nodes=20, max_depth=7, total=   0.3s\n",
      "[CV] min_samples_leaf=3, max_leaf_nodes=10, max_depth=5 ..............\n",
      "[CV]  min_samples_leaf=3, max_leaf_nodes=10, max_depth=5, total=   0.2s\n",
      "[CV] min_samples_leaf=3, max_leaf_nodes=10, max_depth=5 ..............\n",
      "[CV]  min_samples_leaf=3, max_leaf_nodes=10, max_depth=5, total=   0.3s\n",
      "[CV] min_samples_leaf=3, max_leaf_nodes=10, max_depth=5 ..............\n",
      "[CV]  min_samples_leaf=3, max_leaf_nodes=10, max_depth=5, total=   0.3s\n",
      "[CV] min_samples_leaf=3, max_leaf_nodes=10, max_depth=5 ..............\n",
      "[CV]  min_samples_leaf=3, max_leaf_nodes=10, max_depth=5, total=   0.3s\n",
      "[CV] min_samples_leaf=3, max_leaf_nodes=10, max_depth=5 ..............\n",
      "[CV]  min_samples_leaf=3, max_leaf_nodes=10, max_depth=5, total=   0.3s\n",
      "[CV] min_samples_leaf=5, max_leaf_nodes=30, max_depth=5 ..............\n",
      "[CV]  min_samples_leaf=5, max_leaf_nodes=30, max_depth=5, total=   0.3s\n",
      "[CV] min_samples_leaf=5, max_leaf_nodes=30, max_depth=5 ..............\n",
      "[CV]  min_samples_leaf=5, max_leaf_nodes=30, max_depth=5, total=   0.3s\n",
      "[CV] min_samples_leaf=5, max_leaf_nodes=30, max_depth=5 ..............\n",
      "[CV]  min_samples_leaf=5, max_leaf_nodes=30, max_depth=5, total=   0.3s\n",
      "[CV] min_samples_leaf=5, max_leaf_nodes=30, max_depth=5 ..............\n",
      "[CV]  min_samples_leaf=5, max_leaf_nodes=30, max_depth=5, total=   0.3s\n",
      "[CV] min_samples_leaf=5, max_leaf_nodes=30, max_depth=5 ..............\n",
      "[CV]  min_samples_leaf=5, max_leaf_nodes=30, max_depth=5, total=   0.3s\n",
      "[CV] min_samples_leaf=10, max_leaf_nodes=80, max_depth=5 .............\n",
      "[CV]  min_samples_leaf=10, max_leaf_nodes=80, max_depth=5, total=   0.3s\n",
      "[CV] min_samples_leaf=10, max_leaf_nodes=80, max_depth=5 .............\n",
      "[CV]  min_samples_leaf=10, max_leaf_nodes=80, max_depth=5, total=   0.3s\n",
      "[CV] min_samples_leaf=10, max_leaf_nodes=80, max_depth=5 .............\n",
      "[CV]  min_samples_leaf=10, max_leaf_nodes=80, max_depth=5, total=   0.3s\n",
      "[CV] min_samples_leaf=10, max_leaf_nodes=80, max_depth=5 .............\n",
      "[CV]  min_samples_leaf=10, max_leaf_nodes=80, max_depth=5, total=   0.3s\n",
      "[CV] min_samples_leaf=10, max_leaf_nodes=80, max_depth=5 .............\n",
      "[CV]  min_samples_leaf=10, max_leaf_nodes=80, max_depth=5, total=   0.3s\n",
      "[CV] min_samples_leaf=1, max_leaf_nodes=None, max_depth=7 ............\n",
      "[CV]  min_samples_leaf=1, max_leaf_nodes=None, max_depth=7, total=   0.4s\n",
      "[CV] min_samples_leaf=1, max_leaf_nodes=None, max_depth=7 ............\n",
      "[CV]  min_samples_leaf=1, max_leaf_nodes=None, max_depth=7, total=   0.4s\n",
      "[CV] min_samples_leaf=1, max_leaf_nodes=None, max_depth=7 ............\n",
      "[CV]  min_samples_leaf=1, max_leaf_nodes=None, max_depth=7, total=   0.3s\n",
      "[CV] min_samples_leaf=1, max_leaf_nodes=None, max_depth=7 ............\n",
      "[CV]  min_samples_leaf=1, max_leaf_nodes=None, max_depth=7, total=   0.2s\n",
      "[CV] min_samples_leaf=1, max_leaf_nodes=None, max_depth=7 ............\n",
      "[CV]  min_samples_leaf=1, max_leaf_nodes=None, max_depth=7, total=   0.3s\n",
      "[CV] min_samples_leaf=7, max_leaf_nodes=50, max_depth=7 ..............\n",
      "[CV]  min_samples_leaf=7, max_leaf_nodes=50, max_depth=7, total=   0.3s\n",
      "[CV] min_samples_leaf=7, max_leaf_nodes=50, max_depth=7 ..............\n",
      "[CV]  min_samples_leaf=7, max_leaf_nodes=50, max_depth=7, total=   0.3s\n",
      "[CV] min_samples_leaf=7, max_leaf_nodes=50, max_depth=7 ..............\n",
      "[CV]  min_samples_leaf=7, max_leaf_nodes=50, max_depth=7, total=   0.3s\n",
      "[CV] min_samples_leaf=7, max_leaf_nodes=50, max_depth=7 ..............\n",
      "[CV]  min_samples_leaf=7, max_leaf_nodes=50, max_depth=7, total=   0.3s\n",
      "[CV] min_samples_leaf=7, max_leaf_nodes=50, max_depth=7 ..............\n",
      "[CV]  min_samples_leaf=7, max_leaf_nodes=50, max_depth=7, total=   0.3s\n"
     ]
    },
    {
     "name": "stderr",
     "output_type": "stream",
     "text": [
      "[Parallel(n_jobs=1)]: Done  50 out of  50 | elapsed:   14.5s finished\n"
     ]
    },
    {
     "data": {
      "text/plain": [
       "RandomizedSearchCV(cv=5, error_score=nan,\n",
       "                   estimator=ExtraTreesRegressor(bootstrap=False, ccp_alpha=0.0,\n",
       "                                                 criterion='mse',\n",
       "                                                 max_depth=None,\n",
       "                                                 max_features='auto',\n",
       "                                                 max_leaf_nodes=None,\n",
       "                                                 max_samples=None,\n",
       "                                                 min_impurity_decrease=0.0,\n",
       "                                                 min_impurity_split=None,\n",
       "                                                 min_samples_leaf=1,\n",
       "                                                 min_samples_split=2,\n",
       "                                                 min_weight_fraction_leaf=0.0,\n",
       "                                                 n_estimators=100, n_jobs=None,\n",
       "                                                 oob_score=False,\n",
       "                                                 random_state=None, verbose=0,\n",
       "                                                 warm_start=False),\n",
       "                   iid='deprecated', n_iter=10, n_jobs=1,\n",
       "                   param_distributions={'max_depth': [1, 3, 5, 7, 9, 11, 12],\n",
       "                                        'max_leaf_nodes': [None, 10, 20, 30, 40,\n",
       "                                                           50, 60, 70, 80, 90],\n",
       "                                        'min_samples_leaf': [1, 2, 3, 4, 5, 6,\n",
       "                                                             7, 8, 9, 10]},\n",
       "                   pre_dispatch='2*n_jobs', random_state=42, refit=True,\n",
       "                   return_train_score=False, scoring='neg_mean_squared_error',\n",
       "                   verbose=2)"
      ]
     },
     "execution_count": 84,
     "metadata": {},
     "output_type": "execute_result"
    }
   ],
   "source": [
    "etr = ExtraTreesRegressor()\n",
    "\n",
    "params={\"max_depth\" : [1,3,5,7,9,11,12],\n",
    "        \"min_samples_leaf\":[1,2,3,4,5,6,7,8,9,10],\n",
    "        \"max_leaf_nodes\":[None,10,20,30,40,50,60,70,80,90]}\n",
    "\n",
    "RS_CV = RandomizedSearchCV(estimator = etr, param_distributions = params,scoring='neg_mean_squared_error', n_iter = 10, cv = 5, verbose=2, random_state=42, n_jobs = 1)\n",
    "RS_CV.fit(X_tr, y_train)"
   ]
  },
  {
   "cell_type": "code",
   "execution_count": 85,
   "metadata": {},
   "outputs": [
    {
     "data": {
      "text/plain": [
       "ExtraTreesRegressor(bootstrap=False, ccp_alpha=0.0, criterion='mse',\n",
       "                    max_depth=11, max_features='auto', max_leaf_nodes=None,\n",
       "                    max_samples=None, min_impurity_decrease=0.0,\n",
       "                    min_impurity_split=None, min_samples_leaf=1,\n",
       "                    min_samples_split=2, min_weight_fraction_leaf=0.0,\n",
       "                    n_estimators=100, n_jobs=None, oob_score=False,\n",
       "                    random_state=None, verbose=0, warm_start=False)"
      ]
     },
     "execution_count": 85,
     "metadata": {},
     "output_type": "execute_result"
    }
   ],
   "source": [
    "RS_CV.best_estimator_"
   ]
  },
  {
   "cell_type": "code",
   "execution_count": 87,
   "metadata": {},
   "outputs": [],
   "source": [
    "ExtraTrees_model = RS_CV.best_estimator_\n",
    "predicted = ExtraTrees_model.predict(X_te)"
   ]
  },
  {
   "cell_type": "code",
   "execution_count": 88,
   "metadata": {},
   "outputs": [
    {
     "data": {
      "text/plain": [
       "0.4888691552113585"
      ]
     },
     "execution_count": 88,
     "metadata": {},
     "output_type": "execute_result"
    }
   ],
   "source": [
    "mean_squared_error(y_test,predicted)"
   ]
  },
  {
   "cell_type": "code",
   "execution_count": 89,
   "metadata": {},
   "outputs": [
    {
     "data": {
      "text/plain": [
       "<matplotlib.axes._subplots.AxesSubplot at 0x21d88298548>"
      ]
     },
     "execution_count": 89,
     "metadata": {},
     "output_type": "execute_result"
    },
    {
     "data": {
      "image/png": "[encoded data removed]",
      "text/plain": [
       "<Figure size 432x288 with 1 Axes>"
      ]
     },
     "metadata": {
      "needs_background": "light"
     },
     "output_type": "display_data"
    }
   ],
   "source": [
    "sns.distplot(abs(y_test-predicted))"
   ]
  },
  {
   "cell_type": "code",
   "execution_count": 90,
   "metadata": {},
   "outputs": [
    {
     "data": {
      "text/plain": [
       "[0.5858286214360273,\n",
       " 0.5404410065924736,\n",
       " 0.47653159059793193,\n",
       " 0.4594012209280436,\n",
       " 0.44165330799702396,\n",
       " 0.43117580687830603,\n",
       " 0.4079674735449723,\n",
       " 0.39982358021607833,\n",
       " 0.20023541666666667,\n",
       " 0.19922664825557057,\n",
       " 0.18778705136747442,\n",
       " 0.17320880602240774,\n",
       " 0.16909945152097894,\n",
       " 0.16826475363716398,\n",
       " 0.15283323670149151,\n",
       " 0.08435579039424654,\n",
       " 0.08192081749065938,\n",
       " 0.07635337392577035,\n",
       " 0.06879555220769268,\n",
       " 0.059499999999996334,\n",
       " 0.05689180076409883,\n",
       " 0.048785700912282515,\n",
       " 0.04461055229900843,\n",
       " 0.03217772873909658,\n",
       " 0.017910864073646726,\n",
       " 0.013677902816750187,\n",
       " 0.010693994702193343,\n",
       " 0.009270466378549391,\n",
       " 0.008874834085963679,\n",
       " -4.221811101157158e-06]"
      ]
     },
     "execution_count": 90,
     "metadata": {},
     "output_type": "execute_result"
    }
   ],
   "source": [
    "sorted(y_test.reshape(-1)-predicted,reverse=True)[int(len(y_test)*0.25):int(len(y_test)*0.75)]"
   ]
  },
  {
   "cell_type": "code",
   "execution_count": 91,
   "metadata": {},
   "outputs": [
    {
     "data": {
      "image/png": "[encoded data removed]",
      "text/plain": [
       "<Figure size 432x288 with 1 Axes>"
      ]
     },
     "metadata": {
      "needs_background": "light"
     },
     "output_type": "display_data"
    }
   ],
   "source": [
    "sns.scatterplot(y_test.reshape(-1),predicted)\n",
    "plt.plot(line,color = 'r')\n",
    "plt.show()"
   ]
  },
  {
   "cell_type": "code",
   "execution_count": 92,
   "metadata": {},
   "outputs": [
    {
     "name": "stdout",
     "output_type": "stream",
     "text": [
      "[5.69409904e-02 3.75511559e-01 4.12112175e-02 2.16653085e-01\n",
      " 1.44372484e-02 8.68357283e-05 5.85613660e-02 3.49025005e-05\n",
      " 8.98768833e-08 1.55155292e-07 7.56994446e-06 2.56338089e-04\n",
      " 1.19405668e-04 3.48104717e-06 2.53048811e-06 4.08234835e-08\n",
      " 6.06510944e-06 9.16408606e-07 1.67625036e-07 9.77817611e-09\n",
      " 6.02430903e-08 8.08608858e-06 2.26738858e-07 3.55904369e-06\n",
      " 1.85119420e-06 1.78613605e-06 8.58955184e-06 1.29258995e-05\n",
      " 2.99032577e-04 1.13454272e-04 1.07077492e-03 6.67939470e-03\n",
      " 4.21406505e-04 1.55129272e-02 4.29625711e-04 1.83811427e-05\n",
      " 1.05096494e-03 2.84777960e-04 3.59356374e-04 2.52492813e-04\n",
      " 1.44407740e-05 8.31774259e-06 1.11966808e-01 1.35722621e-04\n",
      " 1.04584923e-06 1.05334516e-06 2.10397935e-07 1.84651696e-07\n",
      " 3.78961340e-07 2.56165269e-08 1.39817911e-07 2.54552081e-07\n",
      " 8.99653920e-08 9.15570130e-07 2.68572094e-08 5.01820305e-07\n",
      " 7.28558377e-10 2.08005115e-06 5.68430457e-07 1.09230870e-06\n",
      " 1.73886691e-07 1.00767292e-06 1.20287651e-05 0.00000000e+00\n",
      " 3.64224418e-06 7.91064749e-05 2.32871192e-04 3.24242052e-05\n",
      " 2.31088806e-02 2.02048204e-04 2.06435059e-07 1.85982462e-05\n",
      " 5.11452375e-06 4.75558126e-02 4.47820445e-06 2.35475077e-04\n",
      " 7.53843746e-05 1.28934099e-04 1.15891543e-05 1.35456956e-05\n",
      " 3.28975098e-05 1.14148825e-07 3.40326746e-03 9.03251318e-05\n",
      " 4.29220961e-06 2.75794321e-09 1.75757325e-07 0.00000000e+00\n",
      " 5.87697223e-08 2.17625923e-03 1.33515945e-04 3.28001204e-05\n",
      " 3.16735969e-08 3.09769951e-06 1.53762336e-07 4.43835229e-07\n",
      " 3.58284681e-07 1.99033772e-02]\n"
     ]
    }
   ],
   "source": [
    "print(ExtraTrees_model.feature_importances_)"
   ]
  },
  {
   "cell_type": "code",
   "execution_count": 111,
   "metadata": {},
   "outputs": [
    {
     "data": {
      "image/png": "[encoded data removed]",
      "text/plain": [
       "<Figure size 432x288 with 1 Axes>"
      ]
     },
     "metadata": {
      "needs_background": "light"
     },
     "output_type": "display_data"
    }
   ],
   "source": [
    "#plot graph of feature importances for better visualization\n",
    "feat_importances = pd.Series(ExtraTrees_model.feature_importances_, index=columns)\n",
    "feat_importances.nlargest(10).plot(kind='barh')\n",
    "plt.show()"
   ]
  },
  {
   "cell_type": "code",
   "execution_count": 170,
   "metadata": {},
   "outputs": [],
   "source": [
    "import pickle\n",
    "# open a file, where you ant to store the data\n",
    "file = open('ExtraTrees_model.pkl', 'wb')\n",
    "\n",
    "# dump information to that file\n",
    "pickle.dump(ExtraTrees_model, file)\n",
    "file.close()"
   ]
  },
  {
   "cell_type": "code",
   "execution_count": 178,
   "metadata": {},
   "outputs": [
    {
     "data": {
      "text/plain": [
       "{'copy': True, 'with_mean': True, 'with_std': True}"
      ]
     },
     "execution_count": 178,
     "metadata": {},
     "output_type": "execute_result"
    }
   ],
   "source": [
    "scaler.get_params()"
   ]
  },
  {
   "cell_type": "code",
   "execution_count": 185,
   "metadata": {},
   "outputs": [
    {
     "data": {
      "text/plain": [
       "array([[0.27229405]])"
      ]
     },
     "execution_count": 185,
     "metadata": {},
     "output_type": "execute_result"
    }
   ],
   "source": [
    "scaler.transform(np.array(50000).reshape(1, -1))"
   ]
  },
  {
   "cell_type": "code",
   "execution_count": 187,
   "metadata": {},
   "outputs": [],
   "source": [
    "file = open('scaler.pkl', 'wb')\n",
    "\n",
    "# dump information to that file\n",
    "pickle.dump(scaler, file)\n",
    "file.close()"
   ]
  },
  {
   "cell_type": "code",
   "execution_count": 188,
   "metadata": {},
   "outputs": [],
   "source": [
    "file = open('vectorizer.pkl', 'wb')\n",
    "\n",
    "# dump information to that file\n",
    "pickle.dump(vectorizer, file)\n",
    "file.close()"
   ]
  },
  {
   "cell_type": "code",
   "execution_count": null,
   "metadata": {},
   "outputs": [],
   "source": []
  }
 ],
 "metadata": {
  "kernelspec": {
   "display_name": "Python 3",
   "language": "python",
   "name": "python3"
  },
  "language_info": {
   "codemirror_mode": {
    "name": "ipython",
    "version": 3
   },
   "file_extension": ".py",
   "mimetype": "text/x-python",
   "name": "python",
   "nbconvert_exporter": "python",
   "pygments_lexer": "ipython3",
   "version": "3.7.6"
  }
 },
 "nbformat": 4,
 "nbformat_minor": 4
}
